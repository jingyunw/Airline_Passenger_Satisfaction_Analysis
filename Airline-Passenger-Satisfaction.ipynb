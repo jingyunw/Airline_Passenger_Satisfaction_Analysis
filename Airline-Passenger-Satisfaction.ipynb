{
 "cells": [
  {
   "cell_type": "markdown",
   "metadata": {},
   "source": [
    "# Airline Passenger Satisfaction Analysis"
   ]
  },
  {
   "cell_type": "markdown",
   "metadata": {},
   "source": [
    "## I. Overview\n",
    "This project uses various classification modeling to predict the airline passenger satisfaction after the flight journey."
   ]
  },
  {
   "cell_type": "markdown",
   "metadata": {},
   "source": [
    "## II. Business Problem\n",
    "- How to improve airline passenger experience?\n",
    "***\n",
    "### Question to Consider:\n",
    "- What is the satisfaction and dissatisfaction rate?\n",
    "- What are the critical features that determine satisfaction rate?\n",
    "- Which class has the highest dissatisfaction rate?\n",
    "- Which flight haul has the highest dissatisfaction rate?\n",
    "- Which age group has the highest dissatisfaction rate?"
   ]
  },
  {
   "cell_type": "markdown",
   "metadata": {},
   "source": [
    "## III. Data Understanding"
   ]
  },
  {
   "cell_type": "code",
   "execution_count": 1,
   "metadata": {},
   "outputs": [],
   "source": [
    "import pandas as pd\n",
    "pd.options.display.max_columns = 25\n",
    "import numpy as np\n",
    "import matplotlib.pyplot as plt\n",
    "%matplotlib inline\n",
    "import seaborn as sns\n",
    "import warnings\n",
    "warnings.filterwarnings('ignore')"
   ]
  },
  {
   "cell_type": "code",
   "execution_count": 2,
   "metadata": {},
   "outputs": [
    {
     "data": {
      "text/plain": [
       "(103904, 24)"
      ]
     },
     "metadata": {},
     "output_type": "display_data"
    },
    {
     "data": {
      "text/html": [
       "<div>\n",
       "<style scoped>\n",
       "    .dataframe tbody tr th:only-of-type {\n",
       "        vertical-align: middle;\n",
       "    }\n",
       "\n",
       "    .dataframe tbody tr th {\n",
       "        vertical-align: top;\n",
       "    }\n",
       "\n",
       "    .dataframe thead th {\n",
       "        text-align: right;\n",
       "    }\n",
       "</style>\n",
       "<table border=\"1\" class=\"dataframe\">\n",
       "  <thead>\n",
       "    <tr style=\"text-align: right;\">\n",
       "      <th></th>\n",
       "      <th>id</th>\n",
       "      <th>Gender</th>\n",
       "      <th>Customer Type</th>\n",
       "      <th>Age</th>\n",
       "      <th>Type of Travel</th>\n",
       "      <th>Class</th>\n",
       "      <th>Flight Distance</th>\n",
       "      <th>Inflight wifi service</th>\n",
       "      <th>Departure/Arrival time convenient</th>\n",
       "      <th>Ease of Online booking</th>\n",
       "      <th>Gate location</th>\n",
       "      <th>Food and drink</th>\n",
       "      <th>Online boarding</th>\n",
       "      <th>Seat comfort</th>\n",
       "      <th>Inflight entertainment</th>\n",
       "      <th>On-board service</th>\n",
       "      <th>Leg room service</th>\n",
       "      <th>Baggage handling</th>\n",
       "      <th>Checkin service</th>\n",
       "      <th>Inflight service</th>\n",
       "      <th>Cleanliness</th>\n",
       "      <th>Departure Delay in Minutes</th>\n",
       "      <th>Arrival Delay in Minutes</th>\n",
       "      <th>satisfaction</th>\n",
       "    </tr>\n",
       "  </thead>\n",
       "  <tbody>\n",
       "    <tr>\n",
       "      <th>0</th>\n",
       "      <td>70172</td>\n",
       "      <td>Male</td>\n",
       "      <td>Loyal Customer</td>\n",
       "      <td>13</td>\n",
       "      <td>Personal Travel</td>\n",
       "      <td>Eco Plus</td>\n",
       "      <td>460</td>\n",
       "      <td>3</td>\n",
       "      <td>4</td>\n",
       "      <td>3</td>\n",
       "      <td>1</td>\n",
       "      <td>5</td>\n",
       "      <td>3</td>\n",
       "      <td>5</td>\n",
       "      <td>5</td>\n",
       "      <td>4</td>\n",
       "      <td>3</td>\n",
       "      <td>4</td>\n",
       "      <td>4</td>\n",
       "      <td>5</td>\n",
       "      <td>5</td>\n",
       "      <td>25</td>\n",
       "      <td>18.0</td>\n",
       "      <td>neutral or dissatisfied</td>\n",
       "    </tr>\n",
       "    <tr>\n",
       "      <th>1</th>\n",
       "      <td>5047</td>\n",
       "      <td>Male</td>\n",
       "      <td>disloyal Customer</td>\n",
       "      <td>25</td>\n",
       "      <td>Business travel</td>\n",
       "      <td>Business</td>\n",
       "      <td>235</td>\n",
       "      <td>3</td>\n",
       "      <td>2</td>\n",
       "      <td>3</td>\n",
       "      <td>3</td>\n",
       "      <td>1</td>\n",
       "      <td>3</td>\n",
       "      <td>1</td>\n",
       "      <td>1</td>\n",
       "      <td>1</td>\n",
       "      <td>5</td>\n",
       "      <td>3</td>\n",
       "      <td>1</td>\n",
       "      <td>4</td>\n",
       "      <td>1</td>\n",
       "      <td>1</td>\n",
       "      <td>6.0</td>\n",
       "      <td>neutral or dissatisfied</td>\n",
       "    </tr>\n",
       "    <tr>\n",
       "      <th>2</th>\n",
       "      <td>110028</td>\n",
       "      <td>Female</td>\n",
       "      <td>Loyal Customer</td>\n",
       "      <td>26</td>\n",
       "      <td>Business travel</td>\n",
       "      <td>Business</td>\n",
       "      <td>1142</td>\n",
       "      <td>2</td>\n",
       "      <td>2</td>\n",
       "      <td>2</td>\n",
       "      <td>2</td>\n",
       "      <td>5</td>\n",
       "      <td>5</td>\n",
       "      <td>5</td>\n",
       "      <td>5</td>\n",
       "      <td>4</td>\n",
       "      <td>3</td>\n",
       "      <td>4</td>\n",
       "      <td>4</td>\n",
       "      <td>4</td>\n",
       "      <td>5</td>\n",
       "      <td>0</td>\n",
       "      <td>0.0</td>\n",
       "      <td>satisfied</td>\n",
       "    </tr>\n",
       "    <tr>\n",
       "      <th>3</th>\n",
       "      <td>24026</td>\n",
       "      <td>Female</td>\n",
       "      <td>Loyal Customer</td>\n",
       "      <td>25</td>\n",
       "      <td>Business travel</td>\n",
       "      <td>Business</td>\n",
       "      <td>562</td>\n",
       "      <td>2</td>\n",
       "      <td>5</td>\n",
       "      <td>5</td>\n",
       "      <td>5</td>\n",
       "      <td>2</td>\n",
       "      <td>2</td>\n",
       "      <td>2</td>\n",
       "      <td>2</td>\n",
       "      <td>2</td>\n",
       "      <td>5</td>\n",
       "      <td>3</td>\n",
       "      <td>1</td>\n",
       "      <td>4</td>\n",
       "      <td>2</td>\n",
       "      <td>11</td>\n",
       "      <td>9.0</td>\n",
       "      <td>neutral or dissatisfied</td>\n",
       "    </tr>\n",
       "    <tr>\n",
       "      <th>4</th>\n",
       "      <td>119299</td>\n",
       "      <td>Male</td>\n",
       "      <td>Loyal Customer</td>\n",
       "      <td>61</td>\n",
       "      <td>Business travel</td>\n",
       "      <td>Business</td>\n",
       "      <td>214</td>\n",
       "      <td>3</td>\n",
       "      <td>3</td>\n",
       "      <td>3</td>\n",
       "      <td>3</td>\n",
       "      <td>4</td>\n",
       "      <td>5</td>\n",
       "      <td>5</td>\n",
       "      <td>3</td>\n",
       "      <td>3</td>\n",
       "      <td>4</td>\n",
       "      <td>4</td>\n",
       "      <td>3</td>\n",
       "      <td>3</td>\n",
       "      <td>3</td>\n",
       "      <td>0</td>\n",
       "      <td>0.0</td>\n",
       "      <td>satisfied</td>\n",
       "    </tr>\n",
       "  </tbody>\n",
       "</table>\n",
       "</div>"
      ],
      "text/plain": [
       "       id  Gender      Customer Type  Age   Type of Travel     Class  \\\n",
       "0   70172    Male     Loyal Customer   13  Personal Travel  Eco Plus   \n",
       "1    5047    Male  disloyal Customer   25  Business travel  Business   \n",
       "2  110028  Female     Loyal Customer   26  Business travel  Business   \n",
       "3   24026  Female     Loyal Customer   25  Business travel  Business   \n",
       "4  119299    Male     Loyal Customer   61  Business travel  Business   \n",
       "\n",
       "   Flight Distance  Inflight wifi service  Departure/Arrival time convenient  \\\n",
       "0              460                      3                                  4   \n",
       "1              235                      3                                  2   \n",
       "2             1142                      2                                  2   \n",
       "3              562                      2                                  5   \n",
       "4              214                      3                                  3   \n",
       "\n",
       "   Ease of Online booking  Gate location  Food and drink  Online boarding  \\\n",
       "0                       3              1               5                3   \n",
       "1                       3              3               1                3   \n",
       "2                       2              2               5                5   \n",
       "3                       5              5               2                2   \n",
       "4                       3              3               4                5   \n",
       "\n",
       "   Seat comfort  Inflight entertainment  On-board service  Leg room service  \\\n",
       "0             5                       5                 4                 3   \n",
       "1             1                       1                 1                 5   \n",
       "2             5                       5                 4                 3   \n",
       "3             2                       2                 2                 5   \n",
       "4             5                       3                 3                 4   \n",
       "\n",
       "   Baggage handling  Checkin service  Inflight service  Cleanliness  \\\n",
       "0                 4                4                 5            5   \n",
       "1                 3                1                 4            1   \n",
       "2                 4                4                 4            5   \n",
       "3                 3                1                 4            2   \n",
       "4                 4                3                 3            3   \n",
       "\n",
       "   Departure Delay in Minutes  Arrival Delay in Minutes  \\\n",
       "0                          25                      18.0   \n",
       "1                           1                       6.0   \n",
       "2                           0                       0.0   \n",
       "3                          11                       9.0   \n",
       "4                           0                       0.0   \n",
       "\n",
       "              satisfaction  \n",
       "0  neutral or dissatisfied  \n",
       "1  neutral or dissatisfied  \n",
       "2                satisfied  \n",
       "3  neutral or dissatisfied  \n",
       "4                satisfied  "
      ]
     },
     "metadata": {},
     "output_type": "display_data"
    },
    {
     "name": "stdout",
     "output_type": "stream",
     "text": [
      "<class 'pandas.core.frame.DataFrame'>\n",
      "Int64Index: 103904 entries, 0 to 103903\n",
      "Data columns (total 24 columns):\n",
      "id                                   103904 non-null int64\n",
      "Gender                               103904 non-null object\n",
      "Customer Type                        103904 non-null object\n",
      "Age                                  103904 non-null int64\n",
      "Type of Travel                       103904 non-null object\n",
      "Class                                103904 non-null object\n",
      "Flight Distance                      103904 non-null int64\n",
      "Inflight wifi service                103904 non-null int64\n",
      "Departure/Arrival time convenient    103904 non-null int64\n",
      "Ease of Online booking               103904 non-null int64\n",
      "Gate location                        103904 non-null int64\n",
      "Food and drink                       103904 non-null int64\n",
      "Online boarding                      103904 non-null int64\n",
      "Seat comfort                         103904 non-null int64\n",
      "Inflight entertainment               103904 non-null int64\n",
      "On-board service                     103904 non-null int64\n",
      "Leg room service                     103904 non-null int64\n",
      "Baggage handling                     103904 non-null int64\n",
      "Checkin service                      103904 non-null int64\n",
      "Inflight service                     103904 non-null int64\n",
      "Cleanliness                          103904 non-null int64\n",
      "Departure Delay in Minutes           103904 non-null int64\n",
      "Arrival Delay in Minutes             103594 non-null float64\n",
      "satisfaction                         103904 non-null object\n",
      "dtypes: float64(1), int64(18), object(5)\n",
      "memory usage: 19.8+ MB\n"
     ]
    },
    {
     "data": {
      "text/plain": [
       "None"
      ]
     },
     "metadata": {},
     "output_type": "display_data"
    }
   ],
   "source": [
    "df_train = pd.read_csv('data/train.csv', index_col=0) # Treat the \"Unnamed: 0\" as the index column\n",
    "display(df_train.shape)\n",
    "display(df_train.head())\n",
    "display(df_train.info())"
   ]
  },
  {
   "cell_type": "code",
   "execution_count": 3,
   "metadata": {},
   "outputs": [
    {
     "data": {
      "text/plain": [
       "(25976, 24)"
      ]
     },
     "metadata": {},
     "output_type": "display_data"
    },
    {
     "data": {
      "text/html": [
       "<div>\n",
       "<style scoped>\n",
       "    .dataframe tbody tr th:only-of-type {\n",
       "        vertical-align: middle;\n",
       "    }\n",
       "\n",
       "    .dataframe tbody tr th {\n",
       "        vertical-align: top;\n",
       "    }\n",
       "\n",
       "    .dataframe thead th {\n",
       "        text-align: right;\n",
       "    }\n",
       "</style>\n",
       "<table border=\"1\" class=\"dataframe\">\n",
       "  <thead>\n",
       "    <tr style=\"text-align: right;\">\n",
       "      <th></th>\n",
       "      <th>id</th>\n",
       "      <th>Gender</th>\n",
       "      <th>Customer Type</th>\n",
       "      <th>Age</th>\n",
       "      <th>Type of Travel</th>\n",
       "      <th>Class</th>\n",
       "      <th>Flight Distance</th>\n",
       "      <th>Inflight wifi service</th>\n",
       "      <th>Departure/Arrival time convenient</th>\n",
       "      <th>Ease of Online booking</th>\n",
       "      <th>Gate location</th>\n",
       "      <th>Food and drink</th>\n",
       "      <th>Online boarding</th>\n",
       "      <th>Seat comfort</th>\n",
       "      <th>Inflight entertainment</th>\n",
       "      <th>On-board service</th>\n",
       "      <th>Leg room service</th>\n",
       "      <th>Baggage handling</th>\n",
       "      <th>Checkin service</th>\n",
       "      <th>Inflight service</th>\n",
       "      <th>Cleanliness</th>\n",
       "      <th>Departure Delay in Minutes</th>\n",
       "      <th>Arrival Delay in Minutes</th>\n",
       "      <th>satisfaction</th>\n",
       "    </tr>\n",
       "  </thead>\n",
       "  <tbody>\n",
       "    <tr>\n",
       "      <th>0</th>\n",
       "      <td>19556</td>\n",
       "      <td>Female</td>\n",
       "      <td>Loyal Customer</td>\n",
       "      <td>52</td>\n",
       "      <td>Business travel</td>\n",
       "      <td>Eco</td>\n",
       "      <td>160</td>\n",
       "      <td>5</td>\n",
       "      <td>4</td>\n",
       "      <td>3</td>\n",
       "      <td>4</td>\n",
       "      <td>3</td>\n",
       "      <td>4</td>\n",
       "      <td>3</td>\n",
       "      <td>5</td>\n",
       "      <td>5</td>\n",
       "      <td>5</td>\n",
       "      <td>5</td>\n",
       "      <td>2</td>\n",
       "      <td>5</td>\n",
       "      <td>5</td>\n",
       "      <td>50</td>\n",
       "      <td>44.0</td>\n",
       "      <td>satisfied</td>\n",
       "    </tr>\n",
       "    <tr>\n",
       "      <th>1</th>\n",
       "      <td>90035</td>\n",
       "      <td>Female</td>\n",
       "      <td>Loyal Customer</td>\n",
       "      <td>36</td>\n",
       "      <td>Business travel</td>\n",
       "      <td>Business</td>\n",
       "      <td>2863</td>\n",
       "      <td>1</td>\n",
       "      <td>1</td>\n",
       "      <td>3</td>\n",
       "      <td>1</td>\n",
       "      <td>5</td>\n",
       "      <td>4</td>\n",
       "      <td>5</td>\n",
       "      <td>4</td>\n",
       "      <td>4</td>\n",
       "      <td>4</td>\n",
       "      <td>4</td>\n",
       "      <td>3</td>\n",
       "      <td>4</td>\n",
       "      <td>5</td>\n",
       "      <td>0</td>\n",
       "      <td>0.0</td>\n",
       "      <td>satisfied</td>\n",
       "    </tr>\n",
       "    <tr>\n",
       "      <th>2</th>\n",
       "      <td>12360</td>\n",
       "      <td>Male</td>\n",
       "      <td>disloyal Customer</td>\n",
       "      <td>20</td>\n",
       "      <td>Business travel</td>\n",
       "      <td>Eco</td>\n",
       "      <td>192</td>\n",
       "      <td>2</td>\n",
       "      <td>0</td>\n",
       "      <td>2</td>\n",
       "      <td>4</td>\n",
       "      <td>2</td>\n",
       "      <td>2</td>\n",
       "      <td>2</td>\n",
       "      <td>2</td>\n",
       "      <td>4</td>\n",
       "      <td>1</td>\n",
       "      <td>3</td>\n",
       "      <td>2</td>\n",
       "      <td>2</td>\n",
       "      <td>2</td>\n",
       "      <td>0</td>\n",
       "      <td>0.0</td>\n",
       "      <td>neutral or dissatisfied</td>\n",
       "    </tr>\n",
       "    <tr>\n",
       "      <th>3</th>\n",
       "      <td>77959</td>\n",
       "      <td>Male</td>\n",
       "      <td>Loyal Customer</td>\n",
       "      <td>44</td>\n",
       "      <td>Business travel</td>\n",
       "      <td>Business</td>\n",
       "      <td>3377</td>\n",
       "      <td>0</td>\n",
       "      <td>0</td>\n",
       "      <td>0</td>\n",
       "      <td>2</td>\n",
       "      <td>3</td>\n",
       "      <td>4</td>\n",
       "      <td>4</td>\n",
       "      <td>1</td>\n",
       "      <td>1</td>\n",
       "      <td>1</td>\n",
       "      <td>1</td>\n",
       "      <td>3</td>\n",
       "      <td>1</td>\n",
       "      <td>4</td>\n",
       "      <td>0</td>\n",
       "      <td>6.0</td>\n",
       "      <td>satisfied</td>\n",
       "    </tr>\n",
       "    <tr>\n",
       "      <th>4</th>\n",
       "      <td>36875</td>\n",
       "      <td>Female</td>\n",
       "      <td>Loyal Customer</td>\n",
       "      <td>49</td>\n",
       "      <td>Business travel</td>\n",
       "      <td>Eco</td>\n",
       "      <td>1182</td>\n",
       "      <td>2</td>\n",
       "      <td>3</td>\n",
       "      <td>4</td>\n",
       "      <td>3</td>\n",
       "      <td>4</td>\n",
       "      <td>1</td>\n",
       "      <td>2</td>\n",
       "      <td>2</td>\n",
       "      <td>2</td>\n",
       "      <td>2</td>\n",
       "      <td>2</td>\n",
       "      <td>4</td>\n",
       "      <td>2</td>\n",
       "      <td>4</td>\n",
       "      <td>0</td>\n",
       "      <td>20.0</td>\n",
       "      <td>satisfied</td>\n",
       "    </tr>\n",
       "  </tbody>\n",
       "</table>\n",
       "</div>"
      ],
      "text/plain": [
       "      id  Gender      Customer Type  Age   Type of Travel     Class  \\\n",
       "0  19556  Female     Loyal Customer   52  Business travel       Eco   \n",
       "1  90035  Female     Loyal Customer   36  Business travel  Business   \n",
       "2  12360    Male  disloyal Customer   20  Business travel       Eco   \n",
       "3  77959    Male     Loyal Customer   44  Business travel  Business   \n",
       "4  36875  Female     Loyal Customer   49  Business travel       Eco   \n",
       "\n",
       "   Flight Distance  Inflight wifi service  Departure/Arrival time convenient  \\\n",
       "0              160                      5                                  4   \n",
       "1             2863                      1                                  1   \n",
       "2              192                      2                                  0   \n",
       "3             3377                      0                                  0   \n",
       "4             1182                      2                                  3   \n",
       "\n",
       "   Ease of Online booking  Gate location  Food and drink  Online boarding  \\\n",
       "0                       3              4               3                4   \n",
       "1                       3              1               5                4   \n",
       "2                       2              4               2                2   \n",
       "3                       0              2               3                4   \n",
       "4                       4              3               4                1   \n",
       "\n",
       "   Seat comfort  Inflight entertainment  On-board service  Leg room service  \\\n",
       "0             3                       5                 5                 5   \n",
       "1             5                       4                 4                 4   \n",
       "2             2                       2                 4                 1   \n",
       "3             4                       1                 1                 1   \n",
       "4             2                       2                 2                 2   \n",
       "\n",
       "   Baggage handling  Checkin service  Inflight service  Cleanliness  \\\n",
       "0                 5                2                 5            5   \n",
       "1                 4                3                 4            5   \n",
       "2                 3                2                 2            2   \n",
       "3                 1                3                 1            4   \n",
       "4                 2                4                 2            4   \n",
       "\n",
       "   Departure Delay in Minutes  Arrival Delay in Minutes  \\\n",
       "0                          50                      44.0   \n",
       "1                           0                       0.0   \n",
       "2                           0                       0.0   \n",
       "3                           0                       6.0   \n",
       "4                           0                      20.0   \n",
       "\n",
       "              satisfaction  \n",
       "0                satisfied  \n",
       "1                satisfied  \n",
       "2  neutral or dissatisfied  \n",
       "3                satisfied  \n",
       "4                satisfied  "
      ]
     },
     "metadata": {},
     "output_type": "display_data"
    },
    {
     "name": "stdout",
     "output_type": "stream",
     "text": [
      "<class 'pandas.core.frame.DataFrame'>\n",
      "Int64Index: 25976 entries, 0 to 25975\n",
      "Data columns (total 24 columns):\n",
      "id                                   25976 non-null int64\n",
      "Gender                               25976 non-null object\n",
      "Customer Type                        25976 non-null object\n",
      "Age                                  25976 non-null int64\n",
      "Type of Travel                       25976 non-null object\n",
      "Class                                25976 non-null object\n",
      "Flight Distance                      25976 non-null int64\n",
      "Inflight wifi service                25976 non-null int64\n",
      "Departure/Arrival time convenient    25976 non-null int64\n",
      "Ease of Online booking               25976 non-null int64\n",
      "Gate location                        25976 non-null int64\n",
      "Food and drink                       25976 non-null int64\n",
      "Online boarding                      25976 non-null int64\n",
      "Seat comfort                         25976 non-null int64\n",
      "Inflight entertainment               25976 non-null int64\n",
      "On-board service                     25976 non-null int64\n",
      "Leg room service                     25976 non-null int64\n",
      "Baggage handling                     25976 non-null int64\n",
      "Checkin service                      25976 non-null int64\n",
      "Inflight service                     25976 non-null int64\n",
      "Cleanliness                          25976 non-null int64\n",
      "Departure Delay in Minutes           25976 non-null int64\n",
      "Arrival Delay in Minutes             25893 non-null float64\n",
      "satisfaction                         25976 non-null object\n",
      "dtypes: float64(1), int64(18), object(5)\n",
      "memory usage: 5.0+ MB\n"
     ]
    },
    {
     "data": {
      "text/plain": [
       "None"
      ]
     },
     "metadata": {},
     "output_type": "display_data"
    }
   ],
   "source": [
    "df_test = pd.read_csv('data/test.csv', index_col=0) # Treat the \"Unnamed: 0\" as the index column\n",
    "display(df_test.shape)\n",
    "display(df_test.head())\n",
    "display(df_test.info())"
   ]
  },
  {
   "cell_type": "code",
   "execution_count": 4,
   "metadata": {},
   "outputs": [
    {
     "name": "stdout",
     "output_type": "stream",
     "text": [
      "0.2\n"
     ]
    }
   ],
   "source": [
    "total_rows = df_train.shape[0] + df_test.shape[0]\n",
    "test_df_size = df_test.shape[0] / total_rows\n",
    "print(test_df_size)"
   ]
  },
  {
   "cell_type": "markdown",
   "metadata": {},
   "source": [
    "### Note:\n",
    "- The datasets acquired from [Kaggle](https://www.kaggle.com/teejmahal20/airline-passenger-satisfaction) contain train and test sets which have been already split into 80/20. For analysis (ML) purpose, I will combine those two datasets.\n",
    "- (Some pattern can be only seen at specific part of the dataset)"
   ]
  },
  {
   "cell_type": "markdown",
   "metadata": {},
   "source": [
    "### Combine data"
   ]
  },
  {
   "cell_type": "code",
   "execution_count": 5,
   "metadata": {},
   "outputs": [
    {
     "data": {
      "text/plain": [
       "(129880, 24)"
      ]
     },
     "metadata": {},
     "output_type": "display_data"
    },
    {
     "data": {
      "text/html": [
       "<div>\n",
       "<style scoped>\n",
       "    .dataframe tbody tr th:only-of-type {\n",
       "        vertical-align: middle;\n",
       "    }\n",
       "\n",
       "    .dataframe tbody tr th {\n",
       "        vertical-align: top;\n",
       "    }\n",
       "\n",
       "    .dataframe thead th {\n",
       "        text-align: right;\n",
       "    }\n",
       "</style>\n",
       "<table border=\"1\" class=\"dataframe\">\n",
       "  <thead>\n",
       "    <tr style=\"text-align: right;\">\n",
       "      <th></th>\n",
       "      <th>id</th>\n",
       "      <th>Gender</th>\n",
       "      <th>Customer Type</th>\n",
       "      <th>Age</th>\n",
       "      <th>Type of Travel</th>\n",
       "      <th>Class</th>\n",
       "      <th>Flight Distance</th>\n",
       "      <th>Inflight wifi service</th>\n",
       "      <th>Departure/Arrival time convenient</th>\n",
       "      <th>Ease of Online booking</th>\n",
       "      <th>Gate location</th>\n",
       "      <th>Food and drink</th>\n",
       "      <th>Online boarding</th>\n",
       "      <th>Seat comfort</th>\n",
       "      <th>Inflight entertainment</th>\n",
       "      <th>On-board service</th>\n",
       "      <th>Leg room service</th>\n",
       "      <th>Baggage handling</th>\n",
       "      <th>Checkin service</th>\n",
       "      <th>Inflight service</th>\n",
       "      <th>Cleanliness</th>\n",
       "      <th>Departure Delay in Minutes</th>\n",
       "      <th>Arrival Delay in Minutes</th>\n",
       "      <th>satisfaction</th>\n",
       "    </tr>\n",
       "  </thead>\n",
       "  <tbody>\n",
       "    <tr>\n",
       "      <th>0</th>\n",
       "      <td>70172</td>\n",
       "      <td>Male</td>\n",
       "      <td>Loyal Customer</td>\n",
       "      <td>13</td>\n",
       "      <td>Personal Travel</td>\n",
       "      <td>Eco Plus</td>\n",
       "      <td>460</td>\n",
       "      <td>3</td>\n",
       "      <td>4</td>\n",
       "      <td>3</td>\n",
       "      <td>1</td>\n",
       "      <td>5</td>\n",
       "      <td>3</td>\n",
       "      <td>5</td>\n",
       "      <td>5</td>\n",
       "      <td>4</td>\n",
       "      <td>3</td>\n",
       "      <td>4</td>\n",
       "      <td>4</td>\n",
       "      <td>5</td>\n",
       "      <td>5</td>\n",
       "      <td>25</td>\n",
       "      <td>18.0</td>\n",
       "      <td>neutral or dissatisfied</td>\n",
       "    </tr>\n",
       "    <tr>\n",
       "      <th>1</th>\n",
       "      <td>5047</td>\n",
       "      <td>Male</td>\n",
       "      <td>disloyal Customer</td>\n",
       "      <td>25</td>\n",
       "      <td>Business travel</td>\n",
       "      <td>Business</td>\n",
       "      <td>235</td>\n",
       "      <td>3</td>\n",
       "      <td>2</td>\n",
       "      <td>3</td>\n",
       "      <td>3</td>\n",
       "      <td>1</td>\n",
       "      <td>3</td>\n",
       "      <td>1</td>\n",
       "      <td>1</td>\n",
       "      <td>1</td>\n",
       "      <td>5</td>\n",
       "      <td>3</td>\n",
       "      <td>1</td>\n",
       "      <td>4</td>\n",
       "      <td>1</td>\n",
       "      <td>1</td>\n",
       "      <td>6.0</td>\n",
       "      <td>neutral or dissatisfied</td>\n",
       "    </tr>\n",
       "    <tr>\n",
       "      <th>2</th>\n",
       "      <td>110028</td>\n",
       "      <td>Female</td>\n",
       "      <td>Loyal Customer</td>\n",
       "      <td>26</td>\n",
       "      <td>Business travel</td>\n",
       "      <td>Business</td>\n",
       "      <td>1142</td>\n",
       "      <td>2</td>\n",
       "      <td>2</td>\n",
       "      <td>2</td>\n",
       "      <td>2</td>\n",
       "      <td>5</td>\n",
       "      <td>5</td>\n",
       "      <td>5</td>\n",
       "      <td>5</td>\n",
       "      <td>4</td>\n",
       "      <td>3</td>\n",
       "      <td>4</td>\n",
       "      <td>4</td>\n",
       "      <td>4</td>\n",
       "      <td>5</td>\n",
       "      <td>0</td>\n",
       "      <td>0.0</td>\n",
       "      <td>satisfied</td>\n",
       "    </tr>\n",
       "    <tr>\n",
       "      <th>3</th>\n",
       "      <td>24026</td>\n",
       "      <td>Female</td>\n",
       "      <td>Loyal Customer</td>\n",
       "      <td>25</td>\n",
       "      <td>Business travel</td>\n",
       "      <td>Business</td>\n",
       "      <td>562</td>\n",
       "      <td>2</td>\n",
       "      <td>5</td>\n",
       "      <td>5</td>\n",
       "      <td>5</td>\n",
       "      <td>2</td>\n",
       "      <td>2</td>\n",
       "      <td>2</td>\n",
       "      <td>2</td>\n",
       "      <td>2</td>\n",
       "      <td>5</td>\n",
       "      <td>3</td>\n",
       "      <td>1</td>\n",
       "      <td>4</td>\n",
       "      <td>2</td>\n",
       "      <td>11</td>\n",
       "      <td>9.0</td>\n",
       "      <td>neutral or dissatisfied</td>\n",
       "    </tr>\n",
       "    <tr>\n",
       "      <th>4</th>\n",
       "      <td>119299</td>\n",
       "      <td>Male</td>\n",
       "      <td>Loyal Customer</td>\n",
       "      <td>61</td>\n",
       "      <td>Business travel</td>\n",
       "      <td>Business</td>\n",
       "      <td>214</td>\n",
       "      <td>3</td>\n",
       "      <td>3</td>\n",
       "      <td>3</td>\n",
       "      <td>3</td>\n",
       "      <td>4</td>\n",
       "      <td>5</td>\n",
       "      <td>5</td>\n",
       "      <td>3</td>\n",
       "      <td>3</td>\n",
       "      <td>4</td>\n",
       "      <td>4</td>\n",
       "      <td>3</td>\n",
       "      <td>3</td>\n",
       "      <td>3</td>\n",
       "      <td>0</td>\n",
       "      <td>0.0</td>\n",
       "      <td>satisfied</td>\n",
       "    </tr>\n",
       "  </tbody>\n",
       "</table>\n",
       "</div>"
      ],
      "text/plain": [
       "       id  Gender      Customer Type  Age   Type of Travel     Class  \\\n",
       "0   70172    Male     Loyal Customer   13  Personal Travel  Eco Plus   \n",
       "1    5047    Male  disloyal Customer   25  Business travel  Business   \n",
       "2  110028  Female     Loyal Customer   26  Business travel  Business   \n",
       "3   24026  Female     Loyal Customer   25  Business travel  Business   \n",
       "4  119299    Male     Loyal Customer   61  Business travel  Business   \n",
       "\n",
       "   Flight Distance  Inflight wifi service  Departure/Arrival time convenient  \\\n",
       "0              460                      3                                  4   \n",
       "1              235                      3                                  2   \n",
       "2             1142                      2                                  2   \n",
       "3              562                      2                                  5   \n",
       "4              214                      3                                  3   \n",
       "\n",
       "   Ease of Online booking  Gate location  Food and drink  Online boarding  \\\n",
       "0                       3              1               5                3   \n",
       "1                       3              3               1                3   \n",
       "2                       2              2               5                5   \n",
       "3                       5              5               2                2   \n",
       "4                       3              3               4                5   \n",
       "\n",
       "   Seat comfort  Inflight entertainment  On-board service  Leg room service  \\\n",
       "0             5                       5                 4                 3   \n",
       "1             1                       1                 1                 5   \n",
       "2             5                       5                 4                 3   \n",
       "3             2                       2                 2                 5   \n",
       "4             5                       3                 3                 4   \n",
       "\n",
       "   Baggage handling  Checkin service  Inflight service  Cleanliness  \\\n",
       "0                 4                4                 5            5   \n",
       "1                 3                1                 4            1   \n",
       "2                 4                4                 4            5   \n",
       "3                 3                1                 4            2   \n",
       "4                 4                3                 3            3   \n",
       "\n",
       "   Departure Delay in Minutes  Arrival Delay in Minutes  \\\n",
       "0                          25                      18.0   \n",
       "1                           1                       6.0   \n",
       "2                           0                       0.0   \n",
       "3                          11                       9.0   \n",
       "4                           0                       0.0   \n",
       "\n",
       "              satisfaction  \n",
       "0  neutral or dissatisfied  \n",
       "1  neutral or dissatisfied  \n",
       "2                satisfied  \n",
       "3  neutral or dissatisfied  \n",
       "4                satisfied  "
      ]
     },
     "metadata": {},
     "output_type": "display_data"
    },
    {
     "name": "stdout",
     "output_type": "stream",
     "text": [
      "<class 'pandas.core.frame.DataFrame'>\n",
      "RangeIndex: 129880 entries, 0 to 129879\n",
      "Data columns (total 24 columns):\n",
      "id                                   129880 non-null int64\n",
      "Gender                               129880 non-null object\n",
      "Customer Type                        129880 non-null object\n",
      "Age                                  129880 non-null int64\n",
      "Type of Travel                       129880 non-null object\n",
      "Class                                129880 non-null object\n",
      "Flight Distance                      129880 non-null int64\n",
      "Inflight wifi service                129880 non-null int64\n",
      "Departure/Arrival time convenient    129880 non-null int64\n",
      "Ease of Online booking               129880 non-null int64\n",
      "Gate location                        129880 non-null int64\n",
      "Food and drink                       129880 non-null int64\n",
      "Online boarding                      129880 non-null int64\n",
      "Seat comfort                         129880 non-null int64\n",
      "Inflight entertainment               129880 non-null int64\n",
      "On-board service                     129880 non-null int64\n",
      "Leg room service                     129880 non-null int64\n",
      "Baggage handling                     129880 non-null int64\n",
      "Checkin service                      129880 non-null int64\n",
      "Inflight service                     129880 non-null int64\n",
      "Cleanliness                          129880 non-null int64\n",
      "Departure Delay in Minutes           129880 non-null int64\n",
      "Arrival Delay in Minutes             129487 non-null float64\n",
      "satisfaction                         129880 non-null object\n",
      "dtypes: float64(1), int64(18), object(5)\n",
      "memory usage: 23.8+ MB\n"
     ]
    },
    {
     "data": {
      "text/plain": [
       "None"
      ]
     },
     "metadata": {},
     "output_type": "display_data"
    }
   ],
   "source": [
    "df = pd.concat([df_train, df_test]).reset_index(drop=True)\n",
    "display(df.shape)\n",
    "display(df.head())\n",
    "display(df.info())"
   ]
  },
  {
   "cell_type": "markdown",
   "metadata": {},
   "source": [
    "### Description for each columns' abbreviation\n",
    "- <b>Gender</b> - Gender of the passengers (Female, Male)\n",
    "- <b>Customer Type</b> - The customer type (Loyal customer, disloyal customer)\n",
    "- <b>Age</b> - The actual age of the passengers\n",
    "- <b>Type of Travel</b>: Purpose of the flight of the passengers (Personal Travel, Business Travel)\n",
    "- <b>Class</b> - Travel class in the plane of the passengers (Business, Eco, Eco Plus)\n",
    "- <b>Flight distance</b> - The flight distance of this journey\n",
    "- <b>Inflight wifi service</b> - Satisfaction level of the inflight wifi service (0:Not Applicable;1-5)\n",
    "- <b>Departure/Arrival time convenient</b> - Satisfaction level of Departure/Arrival time convenient\n",
    "- <b>Ease of Online booking</b> - Satisfaction level of online booking\n",
    "- <b>Gate location</b> - Satisfaction level of Gate location\n",
    "- <b>Food and drink</b> - Satisfaction level of Food and drink\n",
    "- <b>Online boarding</b> - Satisfaction level of online boarding\n",
    "- <b>Seat comfort</b> - Satisfaction level of Seat comfort\n",
    "- <b>Inflight entertainment</b> - Satisfaction level of inflight entertainment\n",
    "- <b>On-board service</b> - Satisfaction level of On-board service\n",
    "- <b>Leg room service</b> - Satisfaction level of Leg room service\n",
    "- <b>Baggage handling</b> - Satisfaction level of baggage handling\n",
    "- <b>Check-in service</b> - Satisfaction level of Check-in service\n",
    "- <b>Inflight service</b> - Satisfaction level of inflight service\n",
    "- <b>Cleanliness</b> - Satisfaction level of Cleanliness\n",
    "- <b>Departure Delay in Minutes</b> - Minutes delayed when departure\n",
    "- <b>Arrival Delay in Minutes</b> - Minutes delayed when Arrival\n",
    "- <b>Satisfaction</b> - Airline satisfaction level(Satisfaction, neutral or dissatisfaction)"
   ]
  },
  {
   "cell_type": "markdown",
   "metadata": {},
   "source": [
    "### Check for the null values"
   ]
  },
  {
   "cell_type": "code",
   "execution_count": 6,
   "metadata": {},
   "outputs": [
    {
     "data": {
      "text/plain": [
       "id                                     0\n",
       "Gender                                 0\n",
       "Customer Type                          0\n",
       "Age                                    0\n",
       "Type of Travel                         0\n",
       "Class                                  0\n",
       "Flight Distance                        0\n",
       "Inflight wifi service                  0\n",
       "Departure/Arrival time convenient      0\n",
       "Ease of Online booking                 0\n",
       "Gate location                          0\n",
       "Food and drink                         0\n",
       "Online boarding                        0\n",
       "Seat comfort                           0\n",
       "Inflight entertainment                 0\n",
       "On-board service                       0\n",
       "Leg room service                       0\n",
       "Baggage handling                       0\n",
       "Checkin service                        0\n",
       "Inflight service                       0\n",
       "Cleanliness                            0\n",
       "Departure Delay in Minutes             0\n",
       "Arrival Delay in Minutes             393\n",
       "satisfaction                           0\n",
       "dtype: int64"
      ]
     },
     "execution_count": 6,
     "metadata": {},
     "output_type": "execute_result"
    }
   ],
   "source": [
    "df.isna().sum()"
   ]
  },
  {
   "cell_type": "markdown",
   "metadata": {},
   "source": [
    ">**Comment:** \n",
    "- No need to worried about duplicates (same customers can take multiple journey at different time)\n",
    "\n",
    "\n",
    "- <b>a) Categorical Columns: </b>\n",
    "    - `Gender`, `Customer Type`, `Type of Travel`, and `Class` are either binary or ternary columns\n",
    "\n",
    "\n",
    "- <b>b) Numeric Columns: </b>\n",
    "    - `Age`, `Flight Distance`, `Departure Dalay in Minutes`, and `Arrival Delay in Minutes` are numeric columns\n",
    "\n",
    "\n",
    "- <b>c) Survey Columns: </b>\n",
    "    - From `Inflight wifi service` ... to ... `Cleanliness` are columns contains values from 0 to 5 (0:not applicable; 1 to 5 scale)\n",
    "\n",
    "    - Only `Arrival Delay in Minutes` contains null value "
   ]
  },
  {
   "cell_type": "markdown",
   "metadata": {},
   "source": [
    "### Target Variable - `satisfaction`\n",
    "- Check imbalance"
   ]
  },
  {
   "cell_type": "code",
   "execution_count": 7,
   "metadata": {},
   "outputs": [
    {
     "data": {
      "text/plain": [
       "neutral or dissatisfied    0.565537\n",
       "satisfied                  0.434463\n",
       "Name: satisfaction, dtype: float64"
      ]
     },
     "execution_count": 7,
     "metadata": {},
     "output_type": "execute_result"
    }
   ],
   "source": [
    "df['satisfaction'].value_counts(normalize=True)\n",
    "\n",
    "# add a bar or hist for presentation"
   ]
  },
  {
   "cell_type": "markdown",
   "metadata": {},
   "source": [
    "- Binary classifiers \n",
    "- Around 57% to 43%. The data is quite balance\n",
    "- Change to binary indicator"
   ]
  },
  {
   "cell_type": "markdown",
   "metadata": {},
   "source": [
    "#### Note: some explanation in further content\n",
    "- When I use the phrase \"dissatisfied\" it doesn't necessary mean only dissatisfied customers. Instead, it represents both neutral and dissatisfied customers."
   ]
  },
  {
   "cell_type": "markdown",
   "metadata": {},
   "source": [
    "##  Q1. What is the satisfaction and dissatisfaction rate?"
   ]
  },
  {
   "cell_type": "code",
   "execution_count": 8,
   "metadata": {},
   "outputs": [],
   "source": [
    "dissatisfied_rate = (df['satisfaction'].value_counts(normalize=True)*100)[0]\n",
    "satisfied_rate = (df['satisfaction'].value_counts(normalize=True)*100)[1]\n",
    "\n",
    "xs = ['neutral or dissatisfied', 'satisfied']\n",
    "ys = [dissatisfied_rate, satisfied_rate]"
   ]
  },
  {
   "cell_type": "code",
   "execution_count": 9,
   "metadata": {},
   "outputs": [
    {
     "data": {
      "image/png": "[encoded data removed]",
      "text/plain": [
       "<Figure size 432x576 with 1 Axes>"
      ]
     },
     "metadata": {
      "needs_background": "light"
     },
     "output_type": "display_data"
    }
   ],
   "source": [
    "plt.figure(figsize=(6,8))\n",
    "\n",
    "ax = plt.bar(xs, ys)\n",
    "ax[0].set_color('dodgerblue') # neutral or dissatisfied\n",
    "ax[1].set_color('darkorange') # satisfied\n",
    "\n",
    "plt.xlabel('Satisfaction', fontsize=14)\n",
    "plt.xticks(fontsize=12)\n",
    "\n",
    "plt.ylabel('Passenger %', fontsize=14)\n",
    "plt.yticks(fontsize=12)\n",
    "\n",
    "plt.title('Passenger vs. Satisfaction %', fontsize=14)\n",
    "\n",
    "# Zip join x and y coordinates in pairs\n",
    "for x,y in zip(xs,ys):\n",
    "    label = \"{:,.0f}%\".format(y)\n",
    "    plt.annotate(label,                       # this is the text\n",
    "                 (x,y),                       # this is the coordination point the label\n",
    "                 textcoords=\"offset points\",  # how to position the text\n",
    "                 xytext=(0,4),                # distance from text to points (x,y)\n",
    "                 ha='center',\n",
    "                 fontsize=12)                 # center horizontal alignment\n",
    "\n",
    "plt.grid(b=False)                             # turn off the gird\n",
    "\n",
    "# plt.savefig(\"./images/satisfaction rate.png\", dpi=300, bbox_inches='tight')\n",
    "# plt.show()"
   ]
  },
  {
   "cell_type": "markdown",
   "metadata": {},
   "source": [
    "### Predictor"
   ]
  },
  {
   "cell_type": "markdown",
   "metadata": {},
   "source": [
    "#### a) Categorical Columns"
   ]
  },
  {
   "cell_type": "code",
   "execution_count": 10,
   "metadata": {},
   "outputs": [],
   "source": [
    "# cat_cols = ['Gender', 'Customer Type', 'Type of Travel', 'Class']\n",
    "# for col in cat_cols:\n",
    "#     display(pd.DataFrame(df[col].value_counts(normalize=True)))\n",
    "#     display(pd.DataFrame(df.groupby([col, 'satisfaction'])['satisfaction'].count()))"
   ]
  },
  {
   "cell_type": "code",
   "execution_count": 11,
   "metadata": {},
   "outputs": [
    {
     "data": {
      "image/png": "[encoded data removed]",
      "text/plain": [
       "<Figure size 864x864 with 4 Axes>"
      ]
     },
     "metadata": {
      "needs_background": "light"
     },
     "output_type": "display_data"
    }
   ],
   "source": [
    "fig, axes = plt.subplots(nrows=2,ncols=2, figsize=(12,12))\n",
    "\n",
    "# Gender\n",
    "sns.countplot(data=df, x='satisfaction', hue='Gender', ax=axes[0,0])\n",
    "\n",
    "# Customer Type\n",
    "sns.countplot(data=df, x='satisfaction', hue='Customer Type', ax=axes[0,1])\n",
    "\n",
    "# Type of Travel\n",
    "sns.countplot(data=df, x='satisfaction', hue='Type of Travel', ax=axes[1,0])\n",
    "\n",
    "# Class\n",
    "sns.countplot(data=df, x='satisfaction', hue='Class', hue_order=['Eco', 'Eco Plus', 'Business'], ax=axes[1,1])\n",
    "\n",
    "plt.show()"
   ]
  },
  {
   "cell_type": "markdown",
   "metadata": {},
   "source": [
    ">**Comment:**\n",
    "- `Gender` \n",
    "    - Gender distribution of satisfied and dissatisfied are quite same\n",
    "    - No obvious information expression (Drop this column later)\n",
    "\n",
    "\n",
    "- `Customer Type`\n",
    "    - More Loyal customers (take repeat flights) than Disloyal customers(take once only)\n",
    "    - More dissatisfied loyal customers than satisfied customers\n",
    "\n",
    "\n",
    "- `Type of Travel`\n",
    "    - Similar dissatisfied for both Persoanl and Business travel customers\n",
    "    - More satisfied customers in Business Travel\n",
    "\n",
    "\n",
    "- `Class`\n",
    "    - Eco Plus only counts for small percent compare with Eco and Business Class\n",
    "    - More dissatisfied customers in both Eco and Eco Plus\n",
    "    - More satisfied customers in Businees Class"
   ]
  },
  {
   "cell_type": "markdown",
   "metadata": {},
   "source": [
    "#### b) Numeric Columns"
   ]
  },
  {
   "cell_type": "code",
   "execution_count": 12,
   "metadata": {},
   "outputs": [
    {
     "data": {
      "text/html": [
       "<div>\n",
       "<style scoped>\n",
       "    .dataframe tbody tr th:only-of-type {\n",
       "        vertical-align: middle;\n",
       "    }\n",
       "\n",
       "    .dataframe tbody tr th {\n",
       "        vertical-align: top;\n",
       "    }\n",
       "\n",
       "    .dataframe thead th {\n",
       "        text-align: right;\n",
       "    }\n",
       "</style>\n",
       "<table border=\"1\" class=\"dataframe\">\n",
       "  <thead>\n",
       "    <tr style=\"text-align: right;\">\n",
       "      <th></th>\n",
       "      <th>Age</th>\n",
       "      <th>Flight Distance</th>\n",
       "      <th>Departure Delay in Minutes</th>\n",
       "      <th>Arrival Delay in Minutes</th>\n",
       "    </tr>\n",
       "  </thead>\n",
       "  <tbody>\n",
       "    <tr>\n",
       "      <th>count</th>\n",
       "      <td>129880.000000</td>\n",
       "      <td>129880.000000</td>\n",
       "      <td>129880.000000</td>\n",
       "      <td>129487.000000</td>\n",
       "    </tr>\n",
       "    <tr>\n",
       "      <th>mean</th>\n",
       "      <td>39.427957</td>\n",
       "      <td>1190.316392</td>\n",
       "      <td>14.713713</td>\n",
       "      <td>15.091129</td>\n",
       "    </tr>\n",
       "    <tr>\n",
       "      <th>std</th>\n",
       "      <td>15.119360</td>\n",
       "      <td>997.452477</td>\n",
       "      <td>38.071126</td>\n",
       "      <td>38.465650</td>\n",
       "    </tr>\n",
       "    <tr>\n",
       "      <th>min</th>\n",
       "      <td>7.000000</td>\n",
       "      <td>31.000000</td>\n",
       "      <td>0.000000</td>\n",
       "      <td>0.000000</td>\n",
       "    </tr>\n",
       "    <tr>\n",
       "      <th>25%</th>\n",
       "      <td>27.000000</td>\n",
       "      <td>414.000000</td>\n",
       "      <td>0.000000</td>\n",
       "      <td>0.000000</td>\n",
       "    </tr>\n",
       "    <tr>\n",
       "      <th>50%</th>\n",
       "      <td>40.000000</td>\n",
       "      <td>844.000000</td>\n",
       "      <td>0.000000</td>\n",
       "      <td>0.000000</td>\n",
       "    </tr>\n",
       "    <tr>\n",
       "      <th>75%</th>\n",
       "      <td>51.000000</td>\n",
       "      <td>1744.000000</td>\n",
       "      <td>12.000000</td>\n",
       "      <td>13.000000</td>\n",
       "    </tr>\n",
       "    <tr>\n",
       "      <th>max</th>\n",
       "      <td>85.000000</td>\n",
       "      <td>4983.000000</td>\n",
       "      <td>1592.000000</td>\n",
       "      <td>1584.000000</td>\n",
       "    </tr>\n",
       "  </tbody>\n",
       "</table>\n",
       "</div>"
      ],
      "text/plain": [
       "                 Age  Flight Distance  Departure Delay in Minutes  \\\n",
       "count  129880.000000    129880.000000               129880.000000   \n",
       "mean       39.427957      1190.316392                   14.713713   \n",
       "std        15.119360       997.452477                   38.071126   \n",
       "min         7.000000        31.000000                    0.000000   \n",
       "25%        27.000000       414.000000                    0.000000   \n",
       "50%        40.000000       844.000000                    0.000000   \n",
       "75%        51.000000      1744.000000                   12.000000   \n",
       "max        85.000000      4983.000000                 1592.000000   \n",
       "\n",
       "       Arrival Delay in Minutes  \n",
       "count             129487.000000  \n",
       "mean                  15.091129  \n",
       "std                   38.465650  \n",
       "min                    0.000000  \n",
       "25%                    0.000000  \n",
       "50%                    0.000000  \n",
       "75%                   13.000000  \n",
       "max                 1584.000000  "
      ]
     },
     "execution_count": 12,
     "metadata": {},
     "output_type": "execute_result"
    }
   ],
   "source": [
    "num_cols = ['Age', 'Flight Distance', 'Departure Delay in Minutes', 'Arrival Delay in Minutes']\n",
    "df[num_cols].describe()"
   ]
  },
  {
   "cell_type": "markdown",
   "metadata": {},
   "source": [
    ">**Comment:** \n",
    "- `Departure Delay in Minutes` and `Arrival Delay in Minutes` can be changed into binary columns\n",
    "- Departure late doesn't mean it will cause necessarily arrival late\n",
    "    - How late is late? \n",
    "    - departure + arrival delay <= 20 minues = not significant delay (with tolerance)"
   ]
  },
  {
   "cell_type": "code",
   "execution_count": 13,
   "metadata": {},
   "outputs": [],
   "source": [
    "# sns.distplot(df['Age'])\n",
    "# plt.show()"
   ]
  },
  {
   "cell_type": "code",
   "execution_count": 14,
   "metadata": {},
   "outputs": [
    {
     "data": {
      "image/png": "[encoded data removed]",
      "text/plain": [
       "<Figure size 1585.12x720 with 1 Axes>"
      ]
     },
     "metadata": {
      "needs_background": "light"
     },
     "output_type": "display_data"
    }
   ],
   "source": [
    "# fig,ax = plt.subplots(figsize=(15,15)) does not work???!\n",
    "ax = sns.catplot(data=df, x='Age', kind='count', hue='satisfaction', size=10, aspect=2);"
   ]
  },
  {
   "cell_type": "markdown",
   "metadata": {},
   "source": [
    ">**Comment:**\n",
    "- More satisfied than dissatisfied customers between 40 and 60\n",
    "- Less customers above 70\n",
    "- Separate into different age groups for better analysis?"
   ]
  },
  {
   "cell_type": "code",
   "execution_count": 15,
   "metadata": {},
   "outputs": [
    {
     "data": {
      "image/png": "[encoded data removed]",
      "text/plain": [
       "<Figure size 432x288 with 1 Axes>"
      ]
     },
     "metadata": {
      "needs_background": "light"
     },
     "output_type": "display_data"
    }
   ],
   "source": [
    "sns.distplot(df['Flight Distance'])\n",
    "plt.show()"
   ]
  },
  {
   "cell_type": "markdown",
   "metadata": {},
   "source": [
    ">**Comment:** May be change [flight distance](https://en.wikipedia.org/wiki/Flight_length#:~:text=Route%20category%20lengths%20tend%20to,haul%20as%20being%20in%2Dbetween) to short, medium and long haul?"
   ]
  },
  {
   "cell_type": "code",
   "execution_count": 16,
   "metadata": {
    "scrolled": false
   },
   "outputs": [],
   "source": [
    "# df.loc[(df['Departure Delay in Minutes'] <= 10) | (df['Arrival Delay in Minutes'] <= 10)]"
   ]
  },
  {
   "cell_type": "code",
   "execution_count": 17,
   "metadata": {},
   "outputs": [],
   "source": [
    "# df.loc[df['Arrival Delay in Minutes'].isna()].head(10)"
   ]
  },
  {
   "cell_type": "code",
   "execution_count": 18,
   "metadata": {},
   "outputs": [
    {
     "name": "stdout",
     "output_type": "stream",
     "text": [
      "Null value percentage: 0.303 %\n"
     ]
    }
   ],
   "source": [
    "print(\"Null value percentage:\", round(df['Arrival Delay in Minutes'].isna().mean()*100, 3), \"%\")"
   ]
  },
  {
   "cell_type": "markdown",
   "metadata": {},
   "source": [
    ">**Comment:** Null value only account for 0.303%, which can be dropped later"
   ]
  },
  {
   "cell_type": "markdown",
   "metadata": {},
   "source": [
    "#### c) Survey Columns"
   ]
  },
  {
   "cell_type": "code",
   "execution_count": 19,
   "metadata": {},
   "outputs": [
    {
     "name": "stdout",
     "output_type": "stream",
     "text": [
      "0 id\n",
      "1 Gender\n",
      "2 Customer Type\n",
      "3 Age\n",
      "4 Type of Travel\n",
      "5 Class\n",
      "6 Flight Distance\n",
      "7 Inflight wifi service\n",
      "8 Departure/Arrival time convenient\n",
      "9 Ease of Online booking\n",
      "10 Gate location\n",
      "11 Food and drink\n",
      "12 Online boarding\n",
      "13 Seat comfort\n",
      "14 Inflight entertainment\n",
      "15 On-board service\n",
      "16 Leg room service\n",
      "17 Baggage handling\n",
      "18 Checkin service\n",
      "19 Inflight service\n",
      "20 Cleanliness\n",
      "21 Departure Delay in Minutes\n",
      "22 Arrival Delay in Minutes\n",
      "23 satisfaction\n"
     ]
    }
   ],
   "source": [
    "# Want to slice the survey column index only\n",
    "for ind, col in enumerate(df.columns):\n",
    "    print(ind, col)"
   ]
  },
  {
   "cell_type": "code",
   "execution_count": 20,
   "metadata": {},
   "outputs": [
    {
     "data": {
      "text/html": [
       "<div>\n",
       "<style scoped>\n",
       "    .dataframe tbody tr th:only-of-type {\n",
       "        vertical-align: middle;\n",
       "    }\n",
       "\n",
       "    .dataframe tbody tr th {\n",
       "        vertical-align: top;\n",
       "    }\n",
       "\n",
       "    .dataframe thead th {\n",
       "        text-align: right;\n",
       "    }\n",
       "</style>\n",
       "<table border=\"1\" class=\"dataframe\">\n",
       "  <thead>\n",
       "    <tr style=\"text-align: right;\">\n",
       "      <th></th>\n",
       "      <th>Inflight wifi service</th>\n",
       "      <th>Departure/Arrival time convenient</th>\n",
       "      <th>Ease of Online booking</th>\n",
       "      <th>Gate location</th>\n",
       "      <th>Food and drink</th>\n",
       "      <th>Online boarding</th>\n",
       "      <th>Seat comfort</th>\n",
       "      <th>Inflight entertainment</th>\n",
       "      <th>On-board service</th>\n",
       "      <th>Leg room service</th>\n",
       "      <th>Baggage handling</th>\n",
       "      <th>Checkin service</th>\n",
       "      <th>Inflight service</th>\n",
       "      <th>Cleanliness</th>\n",
       "    </tr>\n",
       "  </thead>\n",
       "  <tbody>\n",
       "    <tr>\n",
       "      <th>count</th>\n",
       "      <td>129880.000000</td>\n",
       "      <td>129880.000000</td>\n",
       "      <td>129880.000000</td>\n",
       "      <td>129880.000000</td>\n",
       "      <td>129880.000000</td>\n",
       "      <td>129880.000000</td>\n",
       "      <td>129880.000000</td>\n",
       "      <td>129880.000000</td>\n",
       "      <td>129880.000000</td>\n",
       "      <td>129880.000000</td>\n",
       "      <td>129880.000000</td>\n",
       "      <td>129880.000000</td>\n",
       "      <td>129880.000000</td>\n",
       "      <td>129880.000000</td>\n",
       "    </tr>\n",
       "    <tr>\n",
       "      <th>mean</th>\n",
       "      <td>2.728696</td>\n",
       "      <td>3.057599</td>\n",
       "      <td>2.756876</td>\n",
       "      <td>2.976925</td>\n",
       "      <td>3.204774</td>\n",
       "      <td>3.252633</td>\n",
       "      <td>3.441361</td>\n",
       "      <td>3.358077</td>\n",
       "      <td>3.383023</td>\n",
       "      <td>3.350878</td>\n",
       "      <td>3.632114</td>\n",
       "      <td>3.306267</td>\n",
       "      <td>3.642193</td>\n",
       "      <td>3.286326</td>\n",
       "    </tr>\n",
       "    <tr>\n",
       "      <th>std</th>\n",
       "      <td>1.329340</td>\n",
       "      <td>1.526741</td>\n",
       "      <td>1.401740</td>\n",
       "      <td>1.278520</td>\n",
       "      <td>1.329933</td>\n",
       "      <td>1.350719</td>\n",
       "      <td>1.319289</td>\n",
       "      <td>1.334049</td>\n",
       "      <td>1.287099</td>\n",
       "      <td>1.316252</td>\n",
       "      <td>1.180025</td>\n",
       "      <td>1.266185</td>\n",
       "      <td>1.176669</td>\n",
       "      <td>1.313682</td>\n",
       "    </tr>\n",
       "    <tr>\n",
       "      <th>min</th>\n",
       "      <td>0.000000</td>\n",
       "      <td>0.000000</td>\n",
       "      <td>0.000000</td>\n",
       "      <td>0.000000</td>\n",
       "      <td>0.000000</td>\n",
       "      <td>0.000000</td>\n",
       "      <td>0.000000</td>\n",
       "      <td>0.000000</td>\n",
       "      <td>0.000000</td>\n",
       "      <td>0.000000</td>\n",
       "      <td>1.000000</td>\n",
       "      <td>0.000000</td>\n",
       "      <td>0.000000</td>\n",
       "      <td>0.000000</td>\n",
       "    </tr>\n",
       "    <tr>\n",
       "      <th>25%</th>\n",
       "      <td>2.000000</td>\n",
       "      <td>2.000000</td>\n",
       "      <td>2.000000</td>\n",
       "      <td>2.000000</td>\n",
       "      <td>2.000000</td>\n",
       "      <td>2.000000</td>\n",
       "      <td>2.000000</td>\n",
       "      <td>2.000000</td>\n",
       "      <td>2.000000</td>\n",
       "      <td>2.000000</td>\n",
       "      <td>3.000000</td>\n",
       "      <td>3.000000</td>\n",
       "      <td>3.000000</td>\n",
       "      <td>2.000000</td>\n",
       "    </tr>\n",
       "    <tr>\n",
       "      <th>50%</th>\n",
       "      <td>3.000000</td>\n",
       "      <td>3.000000</td>\n",
       "      <td>3.000000</td>\n",
       "      <td>3.000000</td>\n",
       "      <td>3.000000</td>\n",
       "      <td>3.000000</td>\n",
       "      <td>4.000000</td>\n",
       "      <td>4.000000</td>\n",
       "      <td>4.000000</td>\n",
       "      <td>4.000000</td>\n",
       "      <td>4.000000</td>\n",
       "      <td>3.000000</td>\n",
       "      <td>4.000000</td>\n",
       "      <td>3.000000</td>\n",
       "    </tr>\n",
       "    <tr>\n",
       "      <th>75%</th>\n",
       "      <td>4.000000</td>\n",
       "      <td>4.000000</td>\n",
       "      <td>4.000000</td>\n",
       "      <td>4.000000</td>\n",
       "      <td>4.000000</td>\n",
       "      <td>4.000000</td>\n",
       "      <td>5.000000</td>\n",
       "      <td>4.000000</td>\n",
       "      <td>4.000000</td>\n",
       "      <td>4.000000</td>\n",
       "      <td>5.000000</td>\n",
       "      <td>4.000000</td>\n",
       "      <td>5.000000</td>\n",
       "      <td>4.000000</td>\n",
       "    </tr>\n",
       "    <tr>\n",
       "      <th>max</th>\n",
       "      <td>5.000000</td>\n",
       "      <td>5.000000</td>\n",
       "      <td>5.000000</td>\n",
       "      <td>5.000000</td>\n",
       "      <td>5.000000</td>\n",
       "      <td>5.000000</td>\n",
       "      <td>5.000000</td>\n",
       "      <td>5.000000</td>\n",
       "      <td>5.000000</td>\n",
       "      <td>5.000000</td>\n",
       "      <td>5.000000</td>\n",
       "      <td>5.000000</td>\n",
       "      <td>5.000000</td>\n",
       "      <td>5.000000</td>\n",
       "    </tr>\n",
       "  </tbody>\n",
       "</table>\n",
       "</div>"
      ],
      "text/plain": [
       "       Inflight wifi service  Departure/Arrival time convenient  \\\n",
       "count          129880.000000                      129880.000000   \n",
       "mean                2.728696                           3.057599   \n",
       "std                 1.329340                           1.526741   \n",
       "min                 0.000000                           0.000000   \n",
       "25%                 2.000000                           2.000000   \n",
       "50%                 3.000000                           3.000000   \n",
       "75%                 4.000000                           4.000000   \n",
       "max                 5.000000                           5.000000   \n",
       "\n",
       "       Ease of Online booking  Gate location  Food and drink  Online boarding  \\\n",
       "count           129880.000000  129880.000000   129880.000000    129880.000000   \n",
       "mean                 2.756876       2.976925        3.204774         3.252633   \n",
       "std                  1.401740       1.278520        1.329933         1.350719   \n",
       "min                  0.000000       0.000000        0.000000         0.000000   \n",
       "25%                  2.000000       2.000000        2.000000         2.000000   \n",
       "50%                  3.000000       3.000000        3.000000         3.000000   \n",
       "75%                  4.000000       4.000000        4.000000         4.000000   \n",
       "max                  5.000000       5.000000        5.000000         5.000000   \n",
       "\n",
       "        Seat comfort  Inflight entertainment  On-board service  \\\n",
       "count  129880.000000           129880.000000     129880.000000   \n",
       "mean        3.441361                3.358077          3.383023   \n",
       "std         1.319289                1.334049          1.287099   \n",
       "min         0.000000                0.000000          0.000000   \n",
       "25%         2.000000                2.000000          2.000000   \n",
       "50%         4.000000                4.000000          4.000000   \n",
       "75%         5.000000                4.000000          4.000000   \n",
       "max         5.000000                5.000000          5.000000   \n",
       "\n",
       "       Leg room service  Baggage handling  Checkin service  Inflight service  \\\n",
       "count     129880.000000     129880.000000    129880.000000     129880.000000   \n",
       "mean           3.350878          3.632114         3.306267          3.642193   \n",
       "std            1.316252          1.180025         1.266185          1.176669   \n",
       "min            0.000000          1.000000         0.000000          0.000000   \n",
       "25%            2.000000          3.000000         3.000000          3.000000   \n",
       "50%            4.000000          4.000000         3.000000          4.000000   \n",
       "75%            4.000000          5.000000         4.000000          5.000000   \n",
       "max            5.000000          5.000000         5.000000          5.000000   \n",
       "\n",
       "         Cleanliness  \n",
       "count  129880.000000  \n",
       "mean        3.286326  \n",
       "std         1.313682  \n",
       "min         0.000000  \n",
       "25%         2.000000  \n",
       "50%         3.000000  \n",
       "75%         4.000000  \n",
       "max         5.000000  "
      ]
     },
     "execution_count": 20,
     "metadata": {},
     "output_type": "execute_result"
    }
   ],
   "source": [
    "# column 7 to column 20\n",
    "survey_cols = df.columns[7:21]\n",
    "df[survey_cols].describe()"
   ]
  },
  {
   "cell_type": "code",
   "execution_count": 21,
   "metadata": {
    "scrolled": false
   },
   "outputs": [],
   "source": [
    "# Want to check the 0 rating...\n",
    "\n",
    "# for cols in df.columns[7:21]:\n",
    "#     display(pd.DataFrame(df[cols].value_counts(normalize=True)))"
   ]
  },
  {
   "cell_type": "markdown",
   "metadata": {},
   "source": [
    "- 0: Not applicable accounts only a small percent for all the survey columns => should treat as 1 for better analysis? Not sure"
   ]
  },
  {
   "cell_type": "markdown",
   "metadata": {},
   "source": [
    "....Want some nice looking subplots below"
   ]
  },
  {
   "cell_type": "code",
   "execution_count": 22,
   "metadata": {},
   "outputs": [
    {
     "data": {
      "image/png": "[encoded data removed]",
      "text/plain": [
       "<Figure size 2160x1440 with 15 Axes>"
      ]
     },
     "metadata": {
      "needs_background": "light"
     },
     "output_type": "display_data"
    }
   ],
   "source": [
    "fig, ax = plt.subplots(3, 5, figsize=(30, 20))\n",
    "for variable, subplot in zip(survey_cols, ax.flatten()):\n",
    "    sns.countplot(df[variable],hue=df['satisfaction'], ax=subplot)"
   ]
  },
  {
   "cell_type": "markdown",
   "metadata": {},
   "source": [
    ">**Comment:**\n",
    "- For most survey columns, passengers who gave a 4 or 5 are more likely to be satisfied\n",
    "- Passengers who gave 5s do not necessary mean they will be satisfied for the overall\n",
    "- Passengers who gave 3s do not necessary mean they will be dissatisfied for the overall\n",
    "- Everyone has their own metic. Some people has relatively higher standard and some people have relatively lower standard\n",
    "- Impractical to satisfy everyone. But it's possible to increase satisfied passengers"
   ]
  },
  {
   "cell_type": "code",
   "execution_count": 23,
   "metadata": {
    "scrolled": false
   },
   "outputs": [],
   "source": [
    "# for s_col in survey_cols:\n",
    "#     display(pd.DataFrame(df.groupby([s_col, 'satisfaction'])['satisfaction'].count()))"
   ]
  },
  {
   "cell_type": "markdown",
   "metadata": {},
   "source": [
    "### *Columns need to be cleaned*\n",
    "\n",
    "#### Target Column\n",
    "- Change to binary indicator (0 or 1)\n",
    "\n",
    "#### a) Categorical Columns\n",
    "- Drop the `id` and `Gender` columns\n",
    "\n",
    "#### b) Numeric Columns\n",
    "- `Age` split into different age groups\n",
    "- `Flight Distance` change to a ternary column\n",
    "- `Arrival Delay` drop the null values\n",
    "- Combine `Departure Delay` and `Arrival Delay`.\n",
    "    - Change to a binary column with either on time( <= 20 minutes) or delay ( > 20 minutes)\n",
    "\n",
    "#### c) Survey Columns\n",
    "- Change the rating 0 to 1 (not sure for this one!!!!!!!)"
   ]
  },
  {
   "cell_type": "markdown",
   "metadata": {},
   "source": [
    "## IV. Data Preparation"
   ]
  },
  {
   "cell_type": "code",
   "execution_count": 24,
   "metadata": {},
   "outputs": [],
   "source": [
    "data = df.copy()"
   ]
  },
  {
   "cell_type": "markdown",
   "metadata": {},
   "source": [
    "### Target Column Cleaning\n",
    "- `satisfaction` changed to 0 or 1"
   ]
  },
  {
   "cell_type": "code",
   "execution_count": 25,
   "metadata": {},
   "outputs": [
    {
     "data": {
      "text/html": [
       "<div>\n",
       "<style scoped>\n",
       "    .dataframe tbody tr th:only-of-type {\n",
       "        vertical-align: middle;\n",
       "    }\n",
       "\n",
       "    .dataframe tbody tr th {\n",
       "        vertical-align: top;\n",
       "    }\n",
       "\n",
       "    .dataframe thead th {\n",
       "        text-align: right;\n",
       "    }\n",
       "</style>\n",
       "<table border=\"1\" class=\"dataframe\">\n",
       "  <thead>\n",
       "    <tr style=\"text-align: right;\">\n",
       "      <th></th>\n",
       "      <th>id</th>\n",
       "      <th>Gender</th>\n",
       "      <th>Customer Type</th>\n",
       "      <th>Age</th>\n",
       "      <th>Type of Travel</th>\n",
       "      <th>Class</th>\n",
       "      <th>Flight Distance</th>\n",
       "      <th>Inflight wifi service</th>\n",
       "      <th>Departure/Arrival time convenient</th>\n",
       "      <th>Ease of Online booking</th>\n",
       "      <th>Gate location</th>\n",
       "      <th>Food and drink</th>\n",
       "      <th>Online boarding</th>\n",
       "      <th>Seat comfort</th>\n",
       "      <th>Inflight entertainment</th>\n",
       "      <th>On-board service</th>\n",
       "      <th>Leg room service</th>\n",
       "      <th>Baggage handling</th>\n",
       "      <th>Checkin service</th>\n",
       "      <th>Inflight service</th>\n",
       "      <th>Cleanliness</th>\n",
       "      <th>Departure Delay in Minutes</th>\n",
       "      <th>Arrival Delay in Minutes</th>\n",
       "      <th>satisfaction</th>\n",
       "    </tr>\n",
       "  </thead>\n",
       "  <tbody>\n",
       "    <tr>\n",
       "      <th>0</th>\n",
       "      <td>70172</td>\n",
       "      <td>Male</td>\n",
       "      <td>Loyal Customer</td>\n",
       "      <td>13</td>\n",
       "      <td>Personal Travel</td>\n",
       "      <td>Eco Plus</td>\n",
       "      <td>460</td>\n",
       "      <td>3</td>\n",
       "      <td>4</td>\n",
       "      <td>3</td>\n",
       "      <td>1</td>\n",
       "      <td>5</td>\n",
       "      <td>3</td>\n",
       "      <td>5</td>\n",
       "      <td>5</td>\n",
       "      <td>4</td>\n",
       "      <td>3</td>\n",
       "      <td>4</td>\n",
       "      <td>4</td>\n",
       "      <td>5</td>\n",
       "      <td>5</td>\n",
       "      <td>25</td>\n",
       "      <td>18.0</td>\n",
       "      <td>0</td>\n",
       "    </tr>\n",
       "    <tr>\n",
       "      <th>1</th>\n",
       "      <td>5047</td>\n",
       "      <td>Male</td>\n",
       "      <td>disloyal Customer</td>\n",
       "      <td>25</td>\n",
       "      <td>Business travel</td>\n",
       "      <td>Business</td>\n",
       "      <td>235</td>\n",
       "      <td>3</td>\n",
       "      <td>2</td>\n",
       "      <td>3</td>\n",
       "      <td>3</td>\n",
       "      <td>1</td>\n",
       "      <td>3</td>\n",
       "      <td>1</td>\n",
       "      <td>1</td>\n",
       "      <td>1</td>\n",
       "      <td>5</td>\n",
       "      <td>3</td>\n",
       "      <td>1</td>\n",
       "      <td>4</td>\n",
       "      <td>1</td>\n",
       "      <td>1</td>\n",
       "      <td>6.0</td>\n",
       "      <td>0</td>\n",
       "    </tr>\n",
       "    <tr>\n",
       "      <th>2</th>\n",
       "      <td>110028</td>\n",
       "      <td>Female</td>\n",
       "      <td>Loyal Customer</td>\n",
       "      <td>26</td>\n",
       "      <td>Business travel</td>\n",
       "      <td>Business</td>\n",
       "      <td>1142</td>\n",
       "      <td>2</td>\n",
       "      <td>2</td>\n",
       "      <td>2</td>\n",
       "      <td>2</td>\n",
       "      <td>5</td>\n",
       "      <td>5</td>\n",
       "      <td>5</td>\n",
       "      <td>5</td>\n",
       "      <td>4</td>\n",
       "      <td>3</td>\n",
       "      <td>4</td>\n",
       "      <td>4</td>\n",
       "      <td>4</td>\n",
       "      <td>5</td>\n",
       "      <td>0</td>\n",
       "      <td>0.0</td>\n",
       "      <td>1</td>\n",
       "    </tr>\n",
       "    <tr>\n",
       "      <th>3</th>\n",
       "      <td>24026</td>\n",
       "      <td>Female</td>\n",
       "      <td>Loyal Customer</td>\n",
       "      <td>25</td>\n",
       "      <td>Business travel</td>\n",
       "      <td>Business</td>\n",
       "      <td>562</td>\n",
       "      <td>2</td>\n",
       "      <td>5</td>\n",
       "      <td>5</td>\n",
       "      <td>5</td>\n",
       "      <td>2</td>\n",
       "      <td>2</td>\n",
       "      <td>2</td>\n",
       "      <td>2</td>\n",
       "      <td>2</td>\n",
       "      <td>5</td>\n",
       "      <td>3</td>\n",
       "      <td>1</td>\n",
       "      <td>4</td>\n",
       "      <td>2</td>\n",
       "      <td>11</td>\n",
       "      <td>9.0</td>\n",
       "      <td>0</td>\n",
       "    </tr>\n",
       "    <tr>\n",
       "      <th>4</th>\n",
       "      <td>119299</td>\n",
       "      <td>Male</td>\n",
       "      <td>Loyal Customer</td>\n",
       "      <td>61</td>\n",
       "      <td>Business travel</td>\n",
       "      <td>Business</td>\n",
       "      <td>214</td>\n",
       "      <td>3</td>\n",
       "      <td>3</td>\n",
       "      <td>3</td>\n",
       "      <td>3</td>\n",
       "      <td>4</td>\n",
       "      <td>5</td>\n",
       "      <td>5</td>\n",
       "      <td>3</td>\n",
       "      <td>3</td>\n",
       "      <td>4</td>\n",
       "      <td>4</td>\n",
       "      <td>3</td>\n",
       "      <td>3</td>\n",
       "      <td>3</td>\n",
       "      <td>0</td>\n",
       "      <td>0.0</td>\n",
       "      <td>1</td>\n",
       "    </tr>\n",
       "  </tbody>\n",
       "</table>\n",
       "</div>"
      ],
      "text/plain": [
       "       id  Gender      Customer Type  Age   Type of Travel     Class  \\\n",
       "0   70172    Male     Loyal Customer   13  Personal Travel  Eco Plus   \n",
       "1    5047    Male  disloyal Customer   25  Business travel  Business   \n",
       "2  110028  Female     Loyal Customer   26  Business travel  Business   \n",
       "3   24026  Female     Loyal Customer   25  Business travel  Business   \n",
       "4  119299    Male     Loyal Customer   61  Business travel  Business   \n",
       "\n",
       "   Flight Distance  Inflight wifi service  Departure/Arrival time convenient  \\\n",
       "0              460                      3                                  4   \n",
       "1              235                      3                                  2   \n",
       "2             1142                      2                                  2   \n",
       "3              562                      2                                  5   \n",
       "4              214                      3                                  3   \n",
       "\n",
       "   Ease of Online booking  Gate location  Food and drink  Online boarding  \\\n",
       "0                       3              1               5                3   \n",
       "1                       3              3               1                3   \n",
       "2                       2              2               5                5   \n",
       "3                       5              5               2                2   \n",
       "4                       3              3               4                5   \n",
       "\n",
       "   Seat comfort  Inflight entertainment  On-board service  Leg room service  \\\n",
       "0             5                       5                 4                 3   \n",
       "1             1                       1                 1                 5   \n",
       "2             5                       5                 4                 3   \n",
       "3             2                       2                 2                 5   \n",
       "4             5                       3                 3                 4   \n",
       "\n",
       "   Baggage handling  Checkin service  Inflight service  Cleanliness  \\\n",
       "0                 4                4                 5            5   \n",
       "1                 3                1                 4            1   \n",
       "2                 4                4                 4            5   \n",
       "3                 3                1                 4            2   \n",
       "4                 4                3                 3            3   \n",
       "\n",
       "   Departure Delay in Minutes  Arrival Delay in Minutes  satisfaction  \n",
       "0                          25                      18.0             0  \n",
       "1                           1                       6.0             0  \n",
       "2                           0                       0.0             1  \n",
       "3                          11                       9.0             0  \n",
       "4                           0                       0.0             1  "
      ]
     },
     "execution_count": 25,
     "metadata": {},
     "output_type": "execute_result"
    }
   ],
   "source": [
    "data['satisfaction'] = data['satisfaction'].map({'neutral or dissatisfied': 0, 'satisfied': 1})\n",
    "data.head()"
   ]
  },
  {
   "cell_type": "markdown",
   "metadata": {},
   "source": [
    "### a) Categorical Columns Cleaning\n",
    "- Drop the `id` and `Gender` columns"
   ]
  },
  {
   "cell_type": "code",
   "execution_count": 26,
   "metadata": {},
   "outputs": [
    {
     "data": {
      "text/plain": [
       "Index(['Customer Type', 'Age', 'Type of Travel', 'Class', 'Flight Distance',\n",
       "       'Inflight wifi service', 'Departure/Arrival time convenient',\n",
       "       'Ease of Online booking', 'Gate location', 'Food and drink',\n",
       "       'Online boarding', 'Seat comfort', 'Inflight entertainment',\n",
       "       'On-board service', 'Leg room service', 'Baggage handling',\n",
       "       'Checkin service', 'Inflight service', 'Cleanliness',\n",
       "       'Departure Delay in Minutes', 'Arrival Delay in Minutes',\n",
       "       'satisfaction'],\n",
       "      dtype='object')"
      ]
     },
     "execution_count": 26,
     "metadata": {},
     "output_type": "execute_result"
    }
   ],
   "source": [
    "data.drop(columns=['id', 'Gender'], inplace=True)\n",
    "data.columns"
   ]
  },
  {
   "cell_type": "markdown",
   "metadata": {},
   "source": [
    "### b) Numerical Columns Cleaning\n",
    "#### `Age`\n",
    "- Divide into four [age groups](https://integrisok.com/resources/on-your-health/2015/october/stages-of-life-health-for-every-age)\n",
    "- Young: < 20\n",
    "- Adult: 20 ~ 40\n",
    "- Middle: 40 ~ 60\n",
    "- Senior: > 60"
   ]
  },
  {
   "cell_type": "code",
   "execution_count": 27,
   "metadata": {},
   "outputs": [],
   "source": [
    "stage = []\n",
    "\n",
    "for age in data['Age']:\n",
    "    if age < 20:\n",
    "        stage.append(\"Young\")\n",
    "       \n",
    "    elif age >= 20 and age < 40:\n",
    "        stage.append(\"Adult\")\n",
    "    \n",
    "    elif age >=40 and age < 60:\n",
    "        stage.append(\"Middle\")\n",
    "       \n",
    "    else:\n",
    "        stage.append(\"Senior\")\n",
    "\n",
    "data['Age'] = stage"
   ]
  },
  {
   "cell_type": "code",
   "execution_count": 28,
   "metadata": {},
   "outputs": [
    {
     "data": {
      "text/html": [
       "<div>\n",
       "<style scoped>\n",
       "    .dataframe tbody tr th:only-of-type {\n",
       "        vertical-align: middle;\n",
       "    }\n",
       "\n",
       "    .dataframe tbody tr th {\n",
       "        vertical-align: top;\n",
       "    }\n",
       "\n",
       "    .dataframe thead th {\n",
       "        text-align: right;\n",
       "    }\n",
       "</style>\n",
       "<table border=\"1\" class=\"dataframe\">\n",
       "  <thead>\n",
       "    <tr style=\"text-align: right;\">\n",
       "      <th></th>\n",
       "      <th>Customer Type</th>\n",
       "      <th>Age</th>\n",
       "      <th>Type of Travel</th>\n",
       "      <th>Class</th>\n",
       "      <th>Flight Distance</th>\n",
       "      <th>Inflight wifi service</th>\n",
       "      <th>Departure/Arrival time convenient</th>\n",
       "      <th>Ease of Online booking</th>\n",
       "      <th>Gate location</th>\n",
       "      <th>Food and drink</th>\n",
       "      <th>Online boarding</th>\n",
       "      <th>Seat comfort</th>\n",
       "      <th>Inflight entertainment</th>\n",
       "      <th>On-board service</th>\n",
       "      <th>Leg room service</th>\n",
       "      <th>Baggage handling</th>\n",
       "      <th>Checkin service</th>\n",
       "      <th>Inflight service</th>\n",
       "      <th>Cleanliness</th>\n",
       "      <th>Departure Delay in Minutes</th>\n",
       "      <th>Arrival Delay in Minutes</th>\n",
       "      <th>satisfaction</th>\n",
       "    </tr>\n",
       "  </thead>\n",
       "  <tbody>\n",
       "    <tr>\n",
       "      <th>0</th>\n",
       "      <td>Loyal Customer</td>\n",
       "      <td>Young</td>\n",
       "      <td>Personal Travel</td>\n",
       "      <td>Eco Plus</td>\n",
       "      <td>460</td>\n",
       "      <td>3</td>\n",
       "      <td>4</td>\n",
       "      <td>3</td>\n",
       "      <td>1</td>\n",
       "      <td>5</td>\n",
       "      <td>3</td>\n",
       "      <td>5</td>\n",
       "      <td>5</td>\n",
       "      <td>4</td>\n",
       "      <td>3</td>\n",
       "      <td>4</td>\n",
       "      <td>4</td>\n",
       "      <td>5</td>\n",
       "      <td>5</td>\n",
       "      <td>25</td>\n",
       "      <td>18.0</td>\n",
       "      <td>0</td>\n",
       "    </tr>\n",
       "    <tr>\n",
       "      <th>1</th>\n",
       "      <td>disloyal Customer</td>\n",
       "      <td>Adult</td>\n",
       "      <td>Business travel</td>\n",
       "      <td>Business</td>\n",
       "      <td>235</td>\n",
       "      <td>3</td>\n",
       "      <td>2</td>\n",
       "      <td>3</td>\n",
       "      <td>3</td>\n",
       "      <td>1</td>\n",
       "      <td>3</td>\n",
       "      <td>1</td>\n",
       "      <td>1</td>\n",
       "      <td>1</td>\n",
       "      <td>5</td>\n",
       "      <td>3</td>\n",
       "      <td>1</td>\n",
       "      <td>4</td>\n",
       "      <td>1</td>\n",
       "      <td>1</td>\n",
       "      <td>6.0</td>\n",
       "      <td>0</td>\n",
       "    </tr>\n",
       "    <tr>\n",
       "      <th>2</th>\n",
       "      <td>Loyal Customer</td>\n",
       "      <td>Adult</td>\n",
       "      <td>Business travel</td>\n",
       "      <td>Business</td>\n",
       "      <td>1142</td>\n",
       "      <td>2</td>\n",
       "      <td>2</td>\n",
       "      <td>2</td>\n",
       "      <td>2</td>\n",
       "      <td>5</td>\n",
       "      <td>5</td>\n",
       "      <td>5</td>\n",
       "      <td>5</td>\n",
       "      <td>4</td>\n",
       "      <td>3</td>\n",
       "      <td>4</td>\n",
       "      <td>4</td>\n",
       "      <td>4</td>\n",
       "      <td>5</td>\n",
       "      <td>0</td>\n",
       "      <td>0.0</td>\n",
       "      <td>1</td>\n",
       "    </tr>\n",
       "    <tr>\n",
       "      <th>3</th>\n",
       "      <td>Loyal Customer</td>\n",
       "      <td>Adult</td>\n",
       "      <td>Business travel</td>\n",
       "      <td>Business</td>\n",
       "      <td>562</td>\n",
       "      <td>2</td>\n",
       "      <td>5</td>\n",
       "      <td>5</td>\n",
       "      <td>5</td>\n",
       "      <td>2</td>\n",
       "      <td>2</td>\n",
       "      <td>2</td>\n",
       "      <td>2</td>\n",
       "      <td>2</td>\n",
       "      <td>5</td>\n",
       "      <td>3</td>\n",
       "      <td>1</td>\n",
       "      <td>4</td>\n",
       "      <td>2</td>\n",
       "      <td>11</td>\n",
       "      <td>9.0</td>\n",
       "      <td>0</td>\n",
       "    </tr>\n",
       "    <tr>\n",
       "      <th>4</th>\n",
       "      <td>Loyal Customer</td>\n",
       "      <td>Senior</td>\n",
       "      <td>Business travel</td>\n",
       "      <td>Business</td>\n",
       "      <td>214</td>\n",
       "      <td>3</td>\n",
       "      <td>3</td>\n",
       "      <td>3</td>\n",
       "      <td>3</td>\n",
       "      <td>4</td>\n",
       "      <td>5</td>\n",
       "      <td>5</td>\n",
       "      <td>3</td>\n",
       "      <td>3</td>\n",
       "      <td>4</td>\n",
       "      <td>4</td>\n",
       "      <td>3</td>\n",
       "      <td>3</td>\n",
       "      <td>3</td>\n",
       "      <td>0</td>\n",
       "      <td>0.0</td>\n",
       "      <td>1</td>\n",
       "    </tr>\n",
       "  </tbody>\n",
       "</table>\n",
       "</div>"
      ],
      "text/plain": [
       "       Customer Type     Age   Type of Travel     Class  Flight Distance  \\\n",
       "0     Loyal Customer   Young  Personal Travel  Eco Plus              460   \n",
       "1  disloyal Customer   Adult  Business travel  Business              235   \n",
       "2     Loyal Customer   Adult  Business travel  Business             1142   \n",
       "3     Loyal Customer   Adult  Business travel  Business              562   \n",
       "4     Loyal Customer  Senior  Business travel  Business              214   \n",
       "\n",
       "   Inflight wifi service  Departure/Arrival time convenient  \\\n",
       "0                      3                                  4   \n",
       "1                      3                                  2   \n",
       "2                      2                                  2   \n",
       "3                      2                                  5   \n",
       "4                      3                                  3   \n",
       "\n",
       "   Ease of Online booking  Gate location  Food and drink  Online boarding  \\\n",
       "0                       3              1               5                3   \n",
       "1                       3              3               1                3   \n",
       "2                       2              2               5                5   \n",
       "3                       5              5               2                2   \n",
       "4                       3              3               4                5   \n",
       "\n",
       "   Seat comfort  Inflight entertainment  On-board service  Leg room service  \\\n",
       "0             5                       5                 4                 3   \n",
       "1             1                       1                 1                 5   \n",
       "2             5                       5                 4                 3   \n",
       "3             2                       2                 2                 5   \n",
       "4             5                       3                 3                 4   \n",
       "\n",
       "   Baggage handling  Checkin service  Inflight service  Cleanliness  \\\n",
       "0                 4                4                 5            5   \n",
       "1                 3                1                 4            1   \n",
       "2                 4                4                 4            5   \n",
       "3                 3                1                 4            2   \n",
       "4                 4                3                 3            3   \n",
       "\n",
       "   Departure Delay in Minutes  Arrival Delay in Minutes  satisfaction  \n",
       "0                          25                      18.0             0  \n",
       "1                           1                       6.0             0  \n",
       "2                           0                       0.0             1  \n",
       "3                          11                       9.0             0  \n",
       "4                           0                       0.0             1  "
      ]
     },
     "execution_count": 28,
     "metadata": {},
     "output_type": "execute_result"
    }
   ],
   "source": [
    "data.head()"
   ]
  },
  {
   "cell_type": "markdown",
   "metadata": {},
   "source": [
    "#### `Flight Distance`\n",
    "- (Assume the distance unit: mile) convert [mile to km](https://www.google.com/search?q=1mile+to+km&rlz=1C5CHFA_enUS918US918&oq=1mile+to+km&aqs=chrome..69i57j6j0l2.4390j0j7&sourceid=chrome&ie=UTF-8)\n",
    "    - 1 mile = 1.609 km\n",
    "- Change the column to a ternary column based on [distance](https://en.wikipedia.org/wiki/Flight_length#:~:text=Route%20category%20lengths%20tend%20to,haul%20as%20being%20in%2Dbetween)\n",
    "    - <b>short</b>: < 1500 km\n",
    "    - <b>medium</b>: 1500 km ~ 4100 km\n",
    "    - <b>long</b>: > 4100 km"
   ]
  },
  {
   "cell_type": "code",
   "execution_count": 29,
   "metadata": {},
   "outputs": [],
   "source": [
    "# 1 mile = 1.609 km\n",
    "data['Flight Distance'] = data['Flight Distance']*1.609"
   ]
  },
  {
   "cell_type": "code",
   "execution_count": 30,
   "metadata": {},
   "outputs": [],
   "source": [
    "haul = []\n",
    "\n",
    "for distance in data['Flight Distance']:\n",
    "    # short haul less than 1500 km\n",
    "    if distance <= 1500:\n",
    "        haul.append(\"short\")\n",
    "    \n",
    "    # long haul greater than 4100 km\n",
    "    elif distance >= 4100:\n",
    "        haul.append(\"long\")\n",
    "    \n",
    "    # medium haul between 1500 and 4100 km    \n",
    "    else:\n",
    "        haul.append(\"medium\")\n",
    "\n",
    "data['Flight Distance'] = haul"
   ]
  },
  {
   "cell_type": "code",
   "execution_count": 31,
   "metadata": {},
   "outputs": [
    {
     "data": {
      "text/html": [
       "<div>\n",
       "<style scoped>\n",
       "    .dataframe tbody tr th:only-of-type {\n",
       "        vertical-align: middle;\n",
       "    }\n",
       "\n",
       "    .dataframe tbody tr th {\n",
       "        vertical-align: top;\n",
       "    }\n",
       "\n",
       "    .dataframe thead th {\n",
       "        text-align: right;\n",
       "    }\n",
       "</style>\n",
       "<table border=\"1\" class=\"dataframe\">\n",
       "  <thead>\n",
       "    <tr style=\"text-align: right;\">\n",
       "      <th></th>\n",
       "      <th>Customer Type</th>\n",
       "      <th>Age</th>\n",
       "      <th>Type of Travel</th>\n",
       "      <th>Class</th>\n",
       "      <th>Flight Distance</th>\n",
       "      <th>Inflight wifi service</th>\n",
       "      <th>Departure/Arrival time convenient</th>\n",
       "      <th>Ease of Online booking</th>\n",
       "      <th>Gate location</th>\n",
       "      <th>Food and drink</th>\n",
       "      <th>Online boarding</th>\n",
       "      <th>Seat comfort</th>\n",
       "      <th>Inflight entertainment</th>\n",
       "      <th>On-board service</th>\n",
       "      <th>Leg room service</th>\n",
       "      <th>Baggage handling</th>\n",
       "      <th>Checkin service</th>\n",
       "      <th>Inflight service</th>\n",
       "      <th>Cleanliness</th>\n",
       "      <th>Departure Delay in Minutes</th>\n",
       "      <th>Arrival Delay in Minutes</th>\n",
       "      <th>satisfaction</th>\n",
       "    </tr>\n",
       "  </thead>\n",
       "  <tbody>\n",
       "    <tr>\n",
       "      <th>0</th>\n",
       "      <td>Loyal Customer</td>\n",
       "      <td>Young</td>\n",
       "      <td>Personal Travel</td>\n",
       "      <td>Eco Plus</td>\n",
       "      <td>short</td>\n",
       "      <td>3</td>\n",
       "      <td>4</td>\n",
       "      <td>3</td>\n",
       "      <td>1</td>\n",
       "      <td>5</td>\n",
       "      <td>3</td>\n",
       "      <td>5</td>\n",
       "      <td>5</td>\n",
       "      <td>4</td>\n",
       "      <td>3</td>\n",
       "      <td>4</td>\n",
       "      <td>4</td>\n",
       "      <td>5</td>\n",
       "      <td>5</td>\n",
       "      <td>25</td>\n",
       "      <td>18.0</td>\n",
       "      <td>0</td>\n",
       "    </tr>\n",
       "    <tr>\n",
       "      <th>1</th>\n",
       "      <td>disloyal Customer</td>\n",
       "      <td>Adult</td>\n",
       "      <td>Business travel</td>\n",
       "      <td>Business</td>\n",
       "      <td>short</td>\n",
       "      <td>3</td>\n",
       "      <td>2</td>\n",
       "      <td>3</td>\n",
       "      <td>3</td>\n",
       "      <td>1</td>\n",
       "      <td>3</td>\n",
       "      <td>1</td>\n",
       "      <td>1</td>\n",
       "      <td>1</td>\n",
       "      <td>5</td>\n",
       "      <td>3</td>\n",
       "      <td>1</td>\n",
       "      <td>4</td>\n",
       "      <td>1</td>\n",
       "      <td>1</td>\n",
       "      <td>6.0</td>\n",
       "      <td>0</td>\n",
       "    </tr>\n",
       "    <tr>\n",
       "      <th>2</th>\n",
       "      <td>Loyal Customer</td>\n",
       "      <td>Adult</td>\n",
       "      <td>Business travel</td>\n",
       "      <td>Business</td>\n",
       "      <td>medium</td>\n",
       "      <td>2</td>\n",
       "      <td>2</td>\n",
       "      <td>2</td>\n",
       "      <td>2</td>\n",
       "      <td>5</td>\n",
       "      <td>5</td>\n",
       "      <td>5</td>\n",
       "      <td>5</td>\n",
       "      <td>4</td>\n",
       "      <td>3</td>\n",
       "      <td>4</td>\n",
       "      <td>4</td>\n",
       "      <td>4</td>\n",
       "      <td>5</td>\n",
       "      <td>0</td>\n",
       "      <td>0.0</td>\n",
       "      <td>1</td>\n",
       "    </tr>\n",
       "    <tr>\n",
       "      <th>3</th>\n",
       "      <td>Loyal Customer</td>\n",
       "      <td>Adult</td>\n",
       "      <td>Business travel</td>\n",
       "      <td>Business</td>\n",
       "      <td>short</td>\n",
       "      <td>2</td>\n",
       "      <td>5</td>\n",
       "      <td>5</td>\n",
       "      <td>5</td>\n",
       "      <td>2</td>\n",
       "      <td>2</td>\n",
       "      <td>2</td>\n",
       "      <td>2</td>\n",
       "      <td>2</td>\n",
       "      <td>5</td>\n",
       "      <td>3</td>\n",
       "      <td>1</td>\n",
       "      <td>4</td>\n",
       "      <td>2</td>\n",
       "      <td>11</td>\n",
       "      <td>9.0</td>\n",
       "      <td>0</td>\n",
       "    </tr>\n",
       "    <tr>\n",
       "      <th>4</th>\n",
       "      <td>Loyal Customer</td>\n",
       "      <td>Senior</td>\n",
       "      <td>Business travel</td>\n",
       "      <td>Business</td>\n",
       "      <td>short</td>\n",
       "      <td>3</td>\n",
       "      <td>3</td>\n",
       "      <td>3</td>\n",
       "      <td>3</td>\n",
       "      <td>4</td>\n",
       "      <td>5</td>\n",
       "      <td>5</td>\n",
       "      <td>3</td>\n",
       "      <td>3</td>\n",
       "      <td>4</td>\n",
       "      <td>4</td>\n",
       "      <td>3</td>\n",
       "      <td>3</td>\n",
       "      <td>3</td>\n",
       "      <td>0</td>\n",
       "      <td>0.0</td>\n",
       "      <td>1</td>\n",
       "    </tr>\n",
       "  </tbody>\n",
       "</table>\n",
       "</div>"
      ],
      "text/plain": [
       "       Customer Type     Age   Type of Travel     Class Flight Distance  \\\n",
       "0     Loyal Customer   Young  Personal Travel  Eco Plus           short   \n",
       "1  disloyal Customer   Adult  Business travel  Business           short   \n",
       "2     Loyal Customer   Adult  Business travel  Business          medium   \n",
       "3     Loyal Customer   Adult  Business travel  Business           short   \n",
       "4     Loyal Customer  Senior  Business travel  Business           short   \n",
       "\n",
       "   Inflight wifi service  Departure/Arrival time convenient  \\\n",
       "0                      3                                  4   \n",
       "1                      3                                  2   \n",
       "2                      2                                  2   \n",
       "3                      2                                  5   \n",
       "4                      3                                  3   \n",
       "\n",
       "   Ease of Online booking  Gate location  Food and drink  Online boarding  \\\n",
       "0                       3              1               5                3   \n",
       "1                       3              3               1                3   \n",
       "2                       2              2               5                5   \n",
       "3                       5              5               2                2   \n",
       "4                       3              3               4                5   \n",
       "\n",
       "   Seat comfort  Inflight entertainment  On-board service  Leg room service  \\\n",
       "0             5                       5                 4                 3   \n",
       "1             1                       1                 1                 5   \n",
       "2             5                       5                 4                 3   \n",
       "3             2                       2                 2                 5   \n",
       "4             5                       3                 3                 4   \n",
       "\n",
       "   Baggage handling  Checkin service  Inflight service  Cleanliness  \\\n",
       "0                 4                4                 5            5   \n",
       "1                 3                1                 4            1   \n",
       "2                 4                4                 4            5   \n",
       "3                 3                1                 4            2   \n",
       "4                 4                3                 3            3   \n",
       "\n",
       "   Departure Delay in Minutes  Arrival Delay in Minutes  satisfaction  \n",
       "0                          25                      18.0             0  \n",
       "1                           1                       6.0             0  \n",
       "2                           0                       0.0             1  \n",
       "3                          11                       9.0             0  \n",
       "4                           0                       0.0             1  "
      ]
     },
     "execution_count": 31,
     "metadata": {},
     "output_type": "execute_result"
    }
   ],
   "source": [
    "data.head()"
   ]
  },
  {
   "cell_type": "markdown",
   "metadata": {},
   "source": [
    "#### `Arrival Delay in Minutes`\n",
    "- Drop the null values"
   ]
  },
  {
   "cell_type": "code",
   "execution_count": 32,
   "metadata": {},
   "outputs": [
    {
     "data": {
      "text/plain": [
       "393"
      ]
     },
     "execution_count": 32,
     "metadata": {},
     "output_type": "execute_result"
    }
   ],
   "source": [
    "df['Arrival Delay in Minutes'].isna().sum()"
   ]
  },
  {
   "cell_type": "code",
   "execution_count": 33,
   "metadata": {},
   "outputs": [
    {
     "data": {
      "text/plain": [
       "129487"
      ]
     },
     "execution_count": 33,
     "metadata": {},
     "output_type": "execute_result"
    }
   ],
   "source": [
    "df.shape[0] - df['Arrival Delay in Minutes'].isna().sum()"
   ]
  },
  {
   "cell_type": "code",
   "execution_count": 34,
   "metadata": {},
   "outputs": [],
   "source": [
    "data = data.dropna(axis=0)"
   ]
  },
  {
   "cell_type": "code",
   "execution_count": 35,
   "metadata": {},
   "outputs": [
    {
     "name": "stdout",
     "output_type": "stream",
     "text": [
      "<class 'pandas.core.frame.DataFrame'>\n",
      "Int64Index: 129487 entries, 0 to 129879\n",
      "Data columns (total 22 columns):\n",
      "Customer Type                        129487 non-null object\n",
      "Age                                  129487 non-null object\n",
      "Type of Travel                       129487 non-null object\n",
      "Class                                129487 non-null object\n",
      "Flight Distance                      129487 non-null object\n",
      "Inflight wifi service                129487 non-null int64\n",
      "Departure/Arrival time convenient    129487 non-null int64\n",
      "Ease of Online booking               129487 non-null int64\n",
      "Gate location                        129487 non-null int64\n",
      "Food and drink                       129487 non-null int64\n",
      "Online boarding                      129487 non-null int64\n",
      "Seat comfort                         129487 non-null int64\n",
      "Inflight entertainment               129487 non-null int64\n",
      "On-board service                     129487 non-null int64\n",
      "Leg room service                     129487 non-null int64\n",
      "Baggage handling                     129487 non-null int64\n",
      "Checkin service                      129487 non-null int64\n",
      "Inflight service                     129487 non-null int64\n",
      "Cleanliness                          129487 non-null int64\n",
      "Departure Delay in Minutes           129487 non-null int64\n",
      "Arrival Delay in Minutes             129487 non-null float64\n",
      "satisfaction                         129487 non-null int64\n",
      "dtypes: float64(1), int64(16), object(5)\n",
      "memory usage: 22.7+ MB\n"
     ]
    }
   ],
   "source": [
    "data.info()"
   ]
  },
  {
   "cell_type": "markdown",
   "metadata": {},
   "source": [
    "#### `Status`\n",
    "- Combine the `Departure Delay in Minutes` and `Arrival Delay in Minutes` into a new column: `Status`\n",
    "- If the total delay is less or equal to 20 minutes, then consider on time. Otherwise, delay"
   ]
  },
  {
   "cell_type": "code",
   "execution_count": 36,
   "metadata": {},
   "outputs": [
    {
     "data": {
      "text/html": [
       "<div>\n",
       "<style scoped>\n",
       "    .dataframe tbody tr th:only-of-type {\n",
       "        vertical-align: middle;\n",
       "    }\n",
       "\n",
       "    .dataframe tbody tr th {\n",
       "        vertical-align: top;\n",
       "    }\n",
       "\n",
       "    .dataframe thead th {\n",
       "        text-align: right;\n",
       "    }\n",
       "</style>\n",
       "<table border=\"1\" class=\"dataframe\">\n",
       "  <thead>\n",
       "    <tr style=\"text-align: right;\">\n",
       "      <th></th>\n",
       "      <th>Customer Type</th>\n",
       "      <th>Age</th>\n",
       "      <th>Type of Travel</th>\n",
       "      <th>Class</th>\n",
       "      <th>Flight Distance</th>\n",
       "      <th>Inflight wifi service</th>\n",
       "      <th>Departure/Arrival time convenient</th>\n",
       "      <th>Ease of Online booking</th>\n",
       "      <th>Gate location</th>\n",
       "      <th>Food and drink</th>\n",
       "      <th>Online boarding</th>\n",
       "      <th>Seat comfort</th>\n",
       "      <th>Inflight entertainment</th>\n",
       "      <th>On-board service</th>\n",
       "      <th>Leg room service</th>\n",
       "      <th>Baggage handling</th>\n",
       "      <th>Checkin service</th>\n",
       "      <th>Inflight service</th>\n",
       "      <th>Cleanliness</th>\n",
       "      <th>Departure Delay in Minutes</th>\n",
       "      <th>Arrival Delay in Minutes</th>\n",
       "      <th>satisfaction</th>\n",
       "      <th>Status</th>\n",
       "    </tr>\n",
       "  </thead>\n",
       "  <tbody>\n",
       "    <tr>\n",
       "      <th>0</th>\n",
       "      <td>Loyal Customer</td>\n",
       "      <td>Young</td>\n",
       "      <td>Personal Travel</td>\n",
       "      <td>Eco Plus</td>\n",
       "      <td>short</td>\n",
       "      <td>3</td>\n",
       "      <td>4</td>\n",
       "      <td>3</td>\n",
       "      <td>1</td>\n",
       "      <td>5</td>\n",
       "      <td>3</td>\n",
       "      <td>5</td>\n",
       "      <td>5</td>\n",
       "      <td>4</td>\n",
       "      <td>3</td>\n",
       "      <td>4</td>\n",
       "      <td>4</td>\n",
       "      <td>5</td>\n",
       "      <td>5</td>\n",
       "      <td>25</td>\n",
       "      <td>18.0</td>\n",
       "      <td>0</td>\n",
       "      <td>43.0</td>\n",
       "    </tr>\n",
       "    <tr>\n",
       "      <th>1</th>\n",
       "      <td>disloyal Customer</td>\n",
       "      <td>Adult</td>\n",
       "      <td>Business travel</td>\n",
       "      <td>Business</td>\n",
       "      <td>short</td>\n",
       "      <td>3</td>\n",
       "      <td>2</td>\n",
       "      <td>3</td>\n",
       "      <td>3</td>\n",
       "      <td>1</td>\n",
       "      <td>3</td>\n",
       "      <td>1</td>\n",
       "      <td>1</td>\n",
       "      <td>1</td>\n",
       "      <td>5</td>\n",
       "      <td>3</td>\n",
       "      <td>1</td>\n",
       "      <td>4</td>\n",
       "      <td>1</td>\n",
       "      <td>1</td>\n",
       "      <td>6.0</td>\n",
       "      <td>0</td>\n",
       "      <td>7.0</td>\n",
       "    </tr>\n",
       "    <tr>\n",
       "      <th>2</th>\n",
       "      <td>Loyal Customer</td>\n",
       "      <td>Adult</td>\n",
       "      <td>Business travel</td>\n",
       "      <td>Business</td>\n",
       "      <td>medium</td>\n",
       "      <td>2</td>\n",
       "      <td>2</td>\n",
       "      <td>2</td>\n",
       "      <td>2</td>\n",
       "      <td>5</td>\n",
       "      <td>5</td>\n",
       "      <td>5</td>\n",
       "      <td>5</td>\n",
       "      <td>4</td>\n",
       "      <td>3</td>\n",
       "      <td>4</td>\n",
       "      <td>4</td>\n",
       "      <td>4</td>\n",
       "      <td>5</td>\n",
       "      <td>0</td>\n",
       "      <td>0.0</td>\n",
       "      <td>1</td>\n",
       "      <td>0.0</td>\n",
       "    </tr>\n",
       "    <tr>\n",
       "      <th>3</th>\n",
       "      <td>Loyal Customer</td>\n",
       "      <td>Adult</td>\n",
       "      <td>Business travel</td>\n",
       "      <td>Business</td>\n",
       "      <td>short</td>\n",
       "      <td>2</td>\n",
       "      <td>5</td>\n",
       "      <td>5</td>\n",
       "      <td>5</td>\n",
       "      <td>2</td>\n",
       "      <td>2</td>\n",
       "      <td>2</td>\n",
       "      <td>2</td>\n",
       "      <td>2</td>\n",
       "      <td>5</td>\n",
       "      <td>3</td>\n",
       "      <td>1</td>\n",
       "      <td>4</td>\n",
       "      <td>2</td>\n",
       "      <td>11</td>\n",
       "      <td>9.0</td>\n",
       "      <td>0</td>\n",
       "      <td>20.0</td>\n",
       "    </tr>\n",
       "    <tr>\n",
       "      <th>4</th>\n",
       "      <td>Loyal Customer</td>\n",
       "      <td>Senior</td>\n",
       "      <td>Business travel</td>\n",
       "      <td>Business</td>\n",
       "      <td>short</td>\n",
       "      <td>3</td>\n",
       "      <td>3</td>\n",
       "      <td>3</td>\n",
       "      <td>3</td>\n",
       "      <td>4</td>\n",
       "      <td>5</td>\n",
       "      <td>5</td>\n",
       "      <td>3</td>\n",
       "      <td>3</td>\n",
       "      <td>4</td>\n",
       "      <td>4</td>\n",
       "      <td>3</td>\n",
       "      <td>3</td>\n",
       "      <td>3</td>\n",
       "      <td>0</td>\n",
       "      <td>0.0</td>\n",
       "      <td>1</td>\n",
       "      <td>0.0</td>\n",
       "    </tr>\n",
       "  </tbody>\n",
       "</table>\n",
       "</div>"
      ],
      "text/plain": [
       "       Customer Type     Age   Type of Travel     Class Flight Distance  \\\n",
       "0     Loyal Customer   Young  Personal Travel  Eco Plus           short   \n",
       "1  disloyal Customer   Adult  Business travel  Business           short   \n",
       "2     Loyal Customer   Adult  Business travel  Business          medium   \n",
       "3     Loyal Customer   Adult  Business travel  Business           short   \n",
       "4     Loyal Customer  Senior  Business travel  Business           short   \n",
       "\n",
       "   Inflight wifi service  Departure/Arrival time convenient  \\\n",
       "0                      3                                  4   \n",
       "1                      3                                  2   \n",
       "2                      2                                  2   \n",
       "3                      2                                  5   \n",
       "4                      3                                  3   \n",
       "\n",
       "   Ease of Online booking  Gate location  Food and drink  Online boarding  \\\n",
       "0                       3              1               5                3   \n",
       "1                       3              3               1                3   \n",
       "2                       2              2               5                5   \n",
       "3                       5              5               2                2   \n",
       "4                       3              3               4                5   \n",
       "\n",
       "   Seat comfort  Inflight entertainment  On-board service  Leg room service  \\\n",
       "0             5                       5                 4                 3   \n",
       "1             1                       1                 1                 5   \n",
       "2             5                       5                 4                 3   \n",
       "3             2                       2                 2                 5   \n",
       "4             5                       3                 3                 4   \n",
       "\n",
       "   Baggage handling  Checkin service  Inflight service  Cleanliness  \\\n",
       "0                 4                4                 5            5   \n",
       "1                 3                1                 4            1   \n",
       "2                 4                4                 4            5   \n",
       "3                 3                1                 4            2   \n",
       "4                 4                3                 3            3   \n",
       "\n",
       "   Departure Delay in Minutes  Arrival Delay in Minutes  satisfaction  Status  \n",
       "0                          25                      18.0             0    43.0  \n",
       "1                           1                       6.0             0     7.0  \n",
       "2                           0                       0.0             1     0.0  \n",
       "3                          11                       9.0             0    20.0  \n",
       "4                           0                       0.0             1     0.0  "
      ]
     },
     "execution_count": 36,
     "metadata": {},
     "output_type": "execute_result"
    }
   ],
   "source": [
    "data['Status'] = data['Departure Delay in Minutes'] + data['Arrival Delay in Minutes']\n",
    "data.head()"
   ]
  },
  {
   "cell_type": "code",
   "execution_count": 37,
   "metadata": {},
   "outputs": [],
   "source": [
    "status = []\n",
    "\n",
    "for time in data['Status']:\n",
    "    # If total delay add up less than or equal to  20 minutes\n",
    "    if time <= 20:\n",
    "        status.append(\"On time\")\n",
    "    \n",
    "    # If total delay add up greater than 20 minutes\n",
    "    else:\n",
    "        status.append(\"Delay\")\n",
    "\n",
    "data['Status'] = status"
   ]
  },
  {
   "cell_type": "code",
   "execution_count": 38,
   "metadata": {},
   "outputs": [
    {
     "data": {
      "text/html": [
       "<div>\n",
       "<style scoped>\n",
       "    .dataframe tbody tr th:only-of-type {\n",
       "        vertical-align: middle;\n",
       "    }\n",
       "\n",
       "    .dataframe tbody tr th {\n",
       "        vertical-align: top;\n",
       "    }\n",
       "\n",
       "    .dataframe thead th {\n",
       "        text-align: right;\n",
       "    }\n",
       "</style>\n",
       "<table border=\"1\" class=\"dataframe\">\n",
       "  <thead>\n",
       "    <tr style=\"text-align: right;\">\n",
       "      <th></th>\n",
       "      <th>Customer Type</th>\n",
       "      <th>Age</th>\n",
       "      <th>Type of Travel</th>\n",
       "      <th>Class</th>\n",
       "      <th>Flight Distance</th>\n",
       "      <th>Inflight wifi service</th>\n",
       "      <th>Departure/Arrival time convenient</th>\n",
       "      <th>Ease of Online booking</th>\n",
       "      <th>Gate location</th>\n",
       "      <th>Food and drink</th>\n",
       "      <th>Online boarding</th>\n",
       "      <th>Seat comfort</th>\n",
       "      <th>Inflight entertainment</th>\n",
       "      <th>On-board service</th>\n",
       "      <th>Leg room service</th>\n",
       "      <th>Baggage handling</th>\n",
       "      <th>Checkin service</th>\n",
       "      <th>Inflight service</th>\n",
       "      <th>Cleanliness</th>\n",
       "      <th>Departure Delay in Minutes</th>\n",
       "      <th>Arrival Delay in Minutes</th>\n",
       "      <th>satisfaction</th>\n",
       "      <th>Status</th>\n",
       "    </tr>\n",
       "  </thead>\n",
       "  <tbody>\n",
       "    <tr>\n",
       "      <th>0</th>\n",
       "      <td>Loyal Customer</td>\n",
       "      <td>Young</td>\n",
       "      <td>Personal Travel</td>\n",
       "      <td>Eco Plus</td>\n",
       "      <td>short</td>\n",
       "      <td>3</td>\n",
       "      <td>4</td>\n",
       "      <td>3</td>\n",
       "      <td>1</td>\n",
       "      <td>5</td>\n",
       "      <td>3</td>\n",
       "      <td>5</td>\n",
       "      <td>5</td>\n",
       "      <td>4</td>\n",
       "      <td>3</td>\n",
       "      <td>4</td>\n",
       "      <td>4</td>\n",
       "      <td>5</td>\n",
       "      <td>5</td>\n",
       "      <td>25</td>\n",
       "      <td>18.0</td>\n",
       "      <td>0</td>\n",
       "      <td>Delay</td>\n",
       "    </tr>\n",
       "    <tr>\n",
       "      <th>1</th>\n",
       "      <td>disloyal Customer</td>\n",
       "      <td>Adult</td>\n",
       "      <td>Business travel</td>\n",
       "      <td>Business</td>\n",
       "      <td>short</td>\n",
       "      <td>3</td>\n",
       "      <td>2</td>\n",
       "      <td>3</td>\n",
       "      <td>3</td>\n",
       "      <td>1</td>\n",
       "      <td>3</td>\n",
       "      <td>1</td>\n",
       "      <td>1</td>\n",
       "      <td>1</td>\n",
       "      <td>5</td>\n",
       "      <td>3</td>\n",
       "      <td>1</td>\n",
       "      <td>4</td>\n",
       "      <td>1</td>\n",
       "      <td>1</td>\n",
       "      <td>6.0</td>\n",
       "      <td>0</td>\n",
       "      <td>On time</td>\n",
       "    </tr>\n",
       "    <tr>\n",
       "      <th>2</th>\n",
       "      <td>Loyal Customer</td>\n",
       "      <td>Adult</td>\n",
       "      <td>Business travel</td>\n",
       "      <td>Business</td>\n",
       "      <td>medium</td>\n",
       "      <td>2</td>\n",
       "      <td>2</td>\n",
       "      <td>2</td>\n",
       "      <td>2</td>\n",
       "      <td>5</td>\n",
       "      <td>5</td>\n",
       "      <td>5</td>\n",
       "      <td>5</td>\n",
       "      <td>4</td>\n",
       "      <td>3</td>\n",
       "      <td>4</td>\n",
       "      <td>4</td>\n",
       "      <td>4</td>\n",
       "      <td>5</td>\n",
       "      <td>0</td>\n",
       "      <td>0.0</td>\n",
       "      <td>1</td>\n",
       "      <td>On time</td>\n",
       "    </tr>\n",
       "    <tr>\n",
       "      <th>3</th>\n",
       "      <td>Loyal Customer</td>\n",
       "      <td>Adult</td>\n",
       "      <td>Business travel</td>\n",
       "      <td>Business</td>\n",
       "      <td>short</td>\n",
       "      <td>2</td>\n",
       "      <td>5</td>\n",
       "      <td>5</td>\n",
       "      <td>5</td>\n",
       "      <td>2</td>\n",
       "      <td>2</td>\n",
       "      <td>2</td>\n",
       "      <td>2</td>\n",
       "      <td>2</td>\n",
       "      <td>5</td>\n",
       "      <td>3</td>\n",
       "      <td>1</td>\n",
       "      <td>4</td>\n",
       "      <td>2</td>\n",
       "      <td>11</td>\n",
       "      <td>9.0</td>\n",
       "      <td>0</td>\n",
       "      <td>On time</td>\n",
       "    </tr>\n",
       "    <tr>\n",
       "      <th>4</th>\n",
       "      <td>Loyal Customer</td>\n",
       "      <td>Senior</td>\n",
       "      <td>Business travel</td>\n",
       "      <td>Business</td>\n",
       "      <td>short</td>\n",
       "      <td>3</td>\n",
       "      <td>3</td>\n",
       "      <td>3</td>\n",
       "      <td>3</td>\n",
       "      <td>4</td>\n",
       "      <td>5</td>\n",
       "      <td>5</td>\n",
       "      <td>3</td>\n",
       "      <td>3</td>\n",
       "      <td>4</td>\n",
       "      <td>4</td>\n",
       "      <td>3</td>\n",
       "      <td>3</td>\n",
       "      <td>3</td>\n",
       "      <td>0</td>\n",
       "      <td>0.0</td>\n",
       "      <td>1</td>\n",
       "      <td>On time</td>\n",
       "    </tr>\n",
       "  </tbody>\n",
       "</table>\n",
       "</div>"
      ],
      "text/plain": [
       "       Customer Type     Age   Type of Travel     Class Flight Distance  \\\n",
       "0     Loyal Customer   Young  Personal Travel  Eco Plus           short   \n",
       "1  disloyal Customer   Adult  Business travel  Business           short   \n",
       "2     Loyal Customer   Adult  Business travel  Business          medium   \n",
       "3     Loyal Customer   Adult  Business travel  Business           short   \n",
       "4     Loyal Customer  Senior  Business travel  Business           short   \n",
       "\n",
       "   Inflight wifi service  Departure/Arrival time convenient  \\\n",
       "0                      3                                  4   \n",
       "1                      3                                  2   \n",
       "2                      2                                  2   \n",
       "3                      2                                  5   \n",
       "4                      3                                  3   \n",
       "\n",
       "   Ease of Online booking  Gate location  Food and drink  Online boarding  \\\n",
       "0                       3              1               5                3   \n",
       "1                       3              3               1                3   \n",
       "2                       2              2               5                5   \n",
       "3                       5              5               2                2   \n",
       "4                       3              3               4                5   \n",
       "\n",
       "   Seat comfort  Inflight entertainment  On-board service  Leg room service  \\\n",
       "0             5                       5                 4                 3   \n",
       "1             1                       1                 1                 5   \n",
       "2             5                       5                 4                 3   \n",
       "3             2                       2                 2                 5   \n",
       "4             5                       3                 3                 4   \n",
       "\n",
       "   Baggage handling  Checkin service  Inflight service  Cleanliness  \\\n",
       "0                 4                4                 5            5   \n",
       "1                 3                1                 4            1   \n",
       "2                 4                4                 4            5   \n",
       "3                 3                1                 4            2   \n",
       "4                 4                3                 3            3   \n",
       "\n",
       "   Departure Delay in Minutes  Arrival Delay in Minutes  satisfaction   Status  \n",
       "0                          25                      18.0             0    Delay  \n",
       "1                           1                       6.0             0  On time  \n",
       "2                           0                       0.0             1  On time  \n",
       "3                          11                       9.0             0  On time  \n",
       "4                           0                       0.0             1  On time  "
      ]
     },
     "execution_count": 38,
     "metadata": {},
     "output_type": "execute_result"
    }
   ],
   "source": [
    "data.head()"
   ]
  },
  {
   "cell_type": "code",
   "execution_count": 39,
   "metadata": {},
   "outputs": [],
   "source": [
    "# Drop the Departure Delay and Arrival Delay\n",
    "data.drop(columns=['Departure Delay in Minutes', 'Arrival Delay in Minutes'], inplace=True)"
   ]
  },
  {
   "cell_type": "code",
   "execution_count": 40,
   "metadata": {},
   "outputs": [
    {
     "name": "stdout",
     "output_type": "stream",
     "text": [
      "<class 'pandas.core.frame.DataFrame'>\n",
      "Int64Index: 129487 entries, 0 to 129879\n",
      "Data columns (total 21 columns):\n",
      "Customer Type                        129487 non-null object\n",
      "Age                                  129487 non-null object\n",
      "Type of Travel                       129487 non-null object\n",
      "Class                                129487 non-null object\n",
      "Flight Distance                      129487 non-null object\n",
      "Inflight wifi service                129487 non-null int64\n",
      "Departure/Arrival time convenient    129487 non-null int64\n",
      "Ease of Online booking               129487 non-null int64\n",
      "Gate location                        129487 non-null int64\n",
      "Food and drink                       129487 non-null int64\n",
      "Online boarding                      129487 non-null int64\n",
      "Seat comfort                         129487 non-null int64\n",
      "Inflight entertainment               129487 non-null int64\n",
      "On-board service                     129487 non-null int64\n",
      "Leg room service                     129487 non-null int64\n",
      "Baggage handling                     129487 non-null int64\n",
      "Checkin service                      129487 non-null int64\n",
      "Inflight service                     129487 non-null int64\n",
      "Cleanliness                          129487 non-null int64\n",
      "satisfaction                         129487 non-null int64\n",
      "Status                               129487 non-null object\n",
      "dtypes: int64(15), object(6)\n",
      "memory usage: 21.7+ MB\n"
     ]
    }
   ],
   "source": [
    "data.info()"
   ]
  },
  {
   "cell_type": "code",
   "execution_count": 41,
   "metadata": {},
   "outputs": [],
   "source": [
    "# sns.countplot(data=data, x='Flight Distance', hue='satisfaction');"
   ]
  },
  {
   "cell_type": "code",
   "execution_count": 42,
   "metadata": {},
   "outputs": [],
   "source": [
    "# sns.countplot(data=data, x='Class', hue='satisfaction');"
   ]
  },
  {
   "cell_type": "code",
   "execution_count": 43,
   "metadata": {},
   "outputs": [],
   "source": [
    "# sns.countplot(data=data, x='Age', hue='satisfaction');"
   ]
  },
  {
   "cell_type": "markdown",
   "metadata": {},
   "source": [
    "## V. Modeling"
   ]
  },
  {
   "cell_type": "code",
   "execution_count": 44,
   "metadata": {},
   "outputs": [],
   "source": [
    "from sklearn.pipeline import Pipeline\n",
    "from sklearn.compose import ColumnTransformer\n",
    "from sklearn.model_selection import train_test_split, cross_val_score, GridSearchCV\n",
    "from sklearn.preprocessing import StandardScaler, OneHotEncoder\n",
    "from sklearn.metrics import accuracy_score, f1_score, roc_auc_score, plot_confusion_matrix, plot_roc_curve"
   ]
  },
  {
   "cell_type": "code",
   "execution_count": 45,
   "metadata": {},
   "outputs": [],
   "source": [
    "from sklearn.linear_model import LogisticRegression\n",
    "from sklearn.neighbors import KNeighborsClassifier\n",
    "from sklearn.tree import DecisionTreeClassifier\n",
    "from sklearn import tree\n",
    "from sklearn.ensemble import RandomForestClassifier, BaggingClassifier, AdaBoostClassifier, GradientBoostingClassifier\n",
    "from xgboost import XGBClassifier"
   ]
  },
  {
   "cell_type": "markdown",
   "metadata": {},
   "source": [
    "### Evaluation Function ( change to py file later)"
   ]
  },
  {
   "cell_type": "code",
   "execution_count": 46,
   "metadata": {},
   "outputs": [],
   "source": [
    "def evaluate (model, X_train, X_test, y_train, y_test, use_decision_function='yes'):\n",
    "    \n",
    "    y_train_preds = model.predict(X_train)\n",
    "    y_test_preds = model.predict(X_test)\n",
    "    \n",
    "    \n",
    "    if use_decision_function == 'skip': # skips calculating the roc_auc_score\n",
    "        train_score = False\n",
    "        test_score = False\n",
    "    \n",
    "    elif use_decision_function == 'yes': # not all classifiers have decision_function\n",
    "        train_score = model.decision_function(X_train)\n",
    "        test_score = model.decision_function(X_test)\n",
    "    \n",
    "    elif use_decision_function == 'no':\n",
    "        train_score = model.predict_proba(X_train)[:, 1] # proba for the 1 class\n",
    "        test_score = model.predict_proba(X_test)[:, 1]\n",
    "    \n",
    "    else:\n",
    "        raise Exception (\"The value for use_decision_function should be 'skip', 'yes' or 'no'.\")\n",
    "\n",
    "    \n",
    "    \n",
    "    print(\"Training Scores\")\n",
    "    print(\"-*-*-*-*-*-*-*-*\")\n",
    "    print(f\"Accuracy: {accuracy_score(y_train, y_train_preds)}\")\n",
    "    print(f\"F1 Score: {f1_score(y_train, y_train_preds)}\")\n",
    "    if type(train_score) == np.ndarray:\n",
    "        print(f\"ROC-AUC: {roc_auc_score(y_train, train_score)}\")\n",
    "    \n",
    "    print('\\n')\n",
    "    \n",
    "    print(\"Testing Scores\")\n",
    "    print(\"-*-*-*-*-*-*-*-*\")\n",
    "    print(f\"Accuracy: {accuracy_score(y_test, y_test_preds)}\")\n",
    "    print(f\"F1 Score: {f1_score(y_test, y_test_preds)}\")\n",
    "    if type(test_score) == np.ndarray:\n",
    "        print(f\"ROC-AUC: {roc_auc_score(y_test, test_score)}\")\n",
    "    \n",
    "\n",
    "    plot_confusion_matrix(model, X_test, y_test, cmap=plt.cm.Blues)\n",
    "    \n",
    "    plot_roc_curve(model, X_test, y_test)\n",
    "    \n",
    "    plt.show()"
   ]
  },
  {
   "cell_type": "markdown",
   "metadata": {},
   "source": [
    "### Baseline Model - LogisticRegression"
   ]
  },
  {
   "cell_type": "code",
   "execution_count": 47,
   "metadata": {},
   "outputs": [],
   "source": [
    "X = data.drop(columns=['satisfaction'], axis=1)\n",
    "y = data['satisfaction']\n",
    "\n",
    "# Train Test Split\n",
    "X_train, X_test, y_train, y_test = train_test_split(X, y, test_size=0.25, random_state=24)"
   ]
  },
  {
   "cell_type": "code",
   "execution_count": 48,
   "metadata": {},
   "outputs": [],
   "source": [
    "# Separate in to numeric and categorical based on data type\n",
    "cat_cols = []\n",
    "num_cols = []\n",
    "\n",
    "for col in X.columns:\n",
    "    if X[col].dtype == \"object\":\n",
    "        cat_cols.append(col)\n",
    "    else:\n",
    "        num_cols.append(col)"
   ]
  },
  {
   "cell_type": "code",
   "execution_count": 49,
   "metadata": {},
   "outputs": [
    {
     "name": "stdout",
     "output_type": "stream",
     "text": [
      "Categorical columns:['Customer Type', 'Age', 'Type of Travel', 'Class', 'Flight Distance', 'Status']\n",
      "\n",
      "\n",
      "Numerical columns:['Inflight wifi service', 'Departure/Arrival time convenient', 'Ease of Online booking', 'Gate location', 'Food and drink', 'Online boarding', 'Seat comfort', 'Inflight entertainment', 'On-board service', 'Leg room service', 'Baggage handling', 'Checkin service', 'Inflight service', 'Cleanliness']\n"
     ]
    }
   ],
   "source": [
    "# Check\n",
    "print(f\"Categorical columns:{cat_cols}\")\n",
    "print(\"\\n\")\n",
    "print(f\"Numerical columns:{num_cols}\")"
   ]
  },
  {
   "cell_type": "code",
   "execution_count": 50,
   "metadata": {},
   "outputs": [],
   "source": [
    "# Set up preprocessing steps for different columns\n",
    "num_transformer = Pipeline(steps=[\n",
    "    ('scaler', StandardScaler())])\n",
    "\n",
    "ohe_transformer = Pipeline(steps=[\n",
    "    ('ohe', OneHotEncoder())])"
   ]
  },
  {
   "cell_type": "code",
   "execution_count": 51,
   "metadata": {},
   "outputs": [],
   "source": [
    "# Put preprocessing steps together into a Column Transformer\n",
    "preprocessor = ColumnTransformer(transformers=[\n",
    "    ('num', num_transformer, num_cols),\n",
    "    ('cat_ohe', ohe_transformer, cat_cols)])"
   ]
  },
  {
   "cell_type": "code",
   "execution_count": 52,
   "metadata": {},
   "outputs": [
    {
     "name": "stdout",
     "output_type": "stream",
     "text": [
      "Training Scores\n",
      "-*-*-*-*-*-*-*-*\n",
      "Accuracy: 0.8741183133398548\n",
      "F1 Score: 0.8526060693746156\n",
      "ROC-AUC: 0.9279383402797724\n",
      "\n",
      "\n",
      "Testing Scores\n",
      "-*-*-*-*-*-*-*-*\n",
      "Accuracy: 0.8745211911528481\n",
      "F1 Score: 0.8523123909249565\n",
      "ROC-AUC: 0.9265509375519111\n"
     ]
    },
    {
     "data": {
      "image/png": "[encoded data removed]",
      "text/plain": [
       "<Figure size 432x288 with 2 Axes>"
      ]
     },
     "metadata": {
      "needs_background": "light"
     },
     "output_type": "display_data"
    },
    {
     "data": {
      "image/png": "[encoded data removed]",
      "text/plain": [
       "<Figure size 432x288 with 1 Axes>"
      ]
     },
     "metadata": {
      "needs_background": "light"
     },
     "output_type": "display_data"
    }
   ],
   "source": [
    "# Add classifier to the Pipeline\n",
    "clf_lg = Pipeline(steps=[\n",
    "    ('preprocess', preprocessor),\n",
    "    ('classifier', LogisticRegression(random_state=24))])\n",
    "\n",
    "clf_lg.fit(X_train, y_train)\n",
    "\n",
    "evaluate(clf_lg, X_train, X_test, y_train, y_test)"
   ]
  },
  {
   "cell_type": "markdown",
   "metadata": {},
   "source": [
    ">**Comment:**"
   ]
  },
  {
   "cell_type": "markdown",
   "metadata": {},
   "source": [
    "### Decision Trees"
   ]
  },
  {
   "cell_type": "code",
   "execution_count": 53,
   "metadata": {},
   "outputs": [
    {
     "name": "stdout",
     "output_type": "stream",
     "text": [
      "Training Scores\n",
      "-*-*-*-*-*-*-*-*\n",
      "Accuracy: 0.9997219790969469\n",
      "F1 Score: 0.9996804620282377\n",
      "ROC-AUC: 0.9999998425492285\n",
      "\n",
      "\n",
      "Testing Scores\n",
      "-*-*-*-*-*-*-*-*\n",
      "Accuracy: 0.9463734091189917\n",
      "F1 Score: 0.9381898454746136\n",
      "ROC-AUC: 0.945797879216315\n"
     ]
    },
    {
     "data": {
      "image/png": "[encoded data removed]",
      "text/plain": [
       "<Figure size 432x288 with 2 Axes>"
      ]
     },
     "metadata": {
      "needs_background": "light"
     },
     "output_type": "display_data"
    },
    {
     "data": {
      "image/png": "[encoded data removed]",
      "text/plain": [
       "<Figure size 432x288 with 1 Axes>"
      ]
     },
     "metadata": {
      "needs_background": "light"
     },
     "output_type": "display_data"
    }
   ],
   "source": [
    "clf_dt = Pipeline(steps=[\n",
    "    ('preprocess', preprocessor),\n",
    "    ('classifier', DecisionTreeClassifier(criterion='entropy', random_state=24))])\n",
    "\n",
    "clf_dt.fit(X_train, y_train)\n",
    "\n",
    "evaluate(clf_dt, X_train, X_test, y_train, y_test, use_decision_function='no')"
   ]
  },
  {
   "cell_type": "markdown",
   "metadata": {},
   "source": [
    ">**Comment:**"
   ]
  },
  {
   "cell_type": "markdown",
   "metadata": {},
   "source": [
    "### Random Forests"
   ]
  },
  {
   "cell_type": "code",
   "execution_count": 54,
   "metadata": {},
   "outputs": [
    {
     "name": "stdout",
     "output_type": "stream",
     "text": [
      "Training Scores\n",
      "-*-*-*-*-*-*-*-*\n",
      "Accuracy: 0.9997219790969469\n",
      "F1 Score: 0.9996805225231621\n",
      "ROC-AUC: 0.999999632471076\n",
      "\n",
      "\n",
      "Testing Scores\n",
      "-*-*-*-*-*-*-*-*\n",
      "Accuracy: 0.9617261831212158\n",
      "F1 Score: 0.9549929165607178\n",
      "ROC-AUC: 0.9932287957487085\n"
     ]
    },
    {
     "data": {
      "image/png": "[encoded data removed]",
      "text/plain": [
       "<Figure size 432x288 with 2 Axes>"
      ]
     },
     "metadata": {
      "needs_background": "light"
     },
     "output_type": "display_data"
    },
    {
     "data": {
      "image/png": "[encoded data removed]",
      "text/plain": [
       "<Figure size 432x288 with 1 Axes>"
      ]
     },
     "metadata": {
      "needs_background": "light"
     },
     "output_type": "display_data"
    }
   ],
   "source": [
    "clf_rf = Pipeline(steps=[\n",
    "    ('preprocess', preprocessor),\n",
    "    ('classifier', RandomForestClassifier(criterion='entropy', random_state=24))])\n",
    "\n",
    "clf_rf.fit(X_train, y_train)\n",
    "\n",
    "evaluate(clf_rf, X_train, X_test, y_train, y_test, use_decision_function='no')"
   ]
  },
  {
   "cell_type": "markdown",
   "metadata": {},
   "source": [
    "### XGB Boost"
   ]
  },
  {
   "cell_type": "code",
   "execution_count": 55,
   "metadata": {},
   "outputs": [
    {
     "name": "stdout",
     "output_type": "stream",
     "text": [
      "Training Scores\n",
      "-*-*-*-*-*-*-*-*\n",
      "Accuracy: 0.9399886732224683\n",
      "F1 Score: 0.929993993993994\n",
      "ROC-AUC: 0.9876373353246429\n",
      "\n",
      "\n",
      "Testing Scores\n",
      "-*-*-*-*-*-*-*-*\n",
      "Accuracy: 0.9424811565550476\n",
      "F1 Score: 0.9325704352864489\n",
      "ROC-AUC: 0.9875821602686444\n"
     ]
    },
    {
     "data": {
      "image/png": "[encoded data removed]",
      "text/plain": [
       "<Figure size 432x288 with 2 Axes>"
      ]
     },
     "metadata": {
      "needs_background": "light"
     },
     "output_type": "display_data"
    },
    {
     "data": {
      "image/png": "[encoded data removed]",
      "text/plain": [
       "<Figure size 432x288 with 1 Axes>"
      ]
     },
     "metadata": {
      "needs_background": "light"
     },
     "output_type": "display_data"
    }
   ],
   "source": [
    "clf_xgb = Pipeline(steps=[\n",
    "    ('preprocess', preprocessor),\n",
    "    ('classifier', XGBClassifier(random_state=24))])\n",
    "\n",
    "clf_xgb.fit(X_train, y_train)\n",
    "\n",
    "evaluate(clf_xgb, X_train, X_test, y_train, y_test, use_decision_function='no')"
   ]
  },
  {
   "cell_type": "markdown",
   "metadata": {},
   "source": [
    ">**Comment:**"
   ]
  },
  {
   "cell_type": "markdown",
   "metadata": {},
   "source": [
    "### Ada"
   ]
  },
  {
   "cell_type": "code",
   "execution_count": 56,
   "metadata": {},
   "outputs": [
    {
     "name": "stdout",
     "output_type": "stream",
     "text": [
      "Training Scores\n",
      "-*-*-*-*-*-*-*-*\n",
      "Accuracy: 0.9997219790969469\n",
      "F1 Score: 0.999680598109614\n",
      "ROC-AUC: 0.9999998425492285\n",
      "\n",
      "\n",
      "Testing Scores\n",
      "-*-*-*-*-*-*-*-*\n",
      "Accuracy: 0.9545903867539849\n",
      "F1 Score: 0.947274031563845\n",
      "ROC-AUC: 0.9841633764186248\n"
     ]
    },
    {
     "data": {
      "image/png": "[encoded data removed]",
      "text/plain": [
       "<Figure size 432x288 with 2 Axes>"
      ]
     },
     "metadata": {
      "needs_background": "light"
     },
     "output_type": "display_data"
    },
    {
     "data": {
      "image/png": "[encoded data removed]",
      "text/plain": [
       "<Figure size 432x288 with 1 Axes>"
      ]
     },
     "metadata": {
      "needs_background": "light"
     },
     "output_type": "display_data"
    }
   ],
   "source": [
    "clf_ada = Pipeline(steps=[\n",
    "    ('preprocess', preprocessor),\n",
    "    ('classifier', AdaBoostClassifier(DecisionTreeClassifier(criterion='entropy'), random_state=24))])\n",
    "\n",
    "clf_ada.fit(X_train, y_train)\n",
    "\n",
    "evaluate(clf_ada, X_train, X_test, y_train, y_test, use_decision_function='no')"
   ]
  },
  {
   "cell_type": "markdown",
   "metadata": {},
   "source": [
    "### Gradient Boosting"
   ]
  },
  {
   "cell_type": "code",
   "execution_count": 57,
   "metadata": {},
   "outputs": [
    {
     "name": "stdout",
     "output_type": "stream",
     "text": [
      "Training Scores\n",
      "-*-*-*-*-*-*-*-*\n",
      "Accuracy: 0.9417906605570715\n",
      "F1 Score: 0.9322953470267682\n",
      "ROC-AUC: 0.9875359092043156\n",
      "\n",
      "\n",
      "Testing Scores\n",
      "-*-*-*-*-*-*-*-*\n",
      "Accuracy: 0.9425429383417768\n",
      "F1 Score: 0.9328228835596648\n",
      "ROC-AUC: 0.9874437104737859\n"
     ]
    },
    {
     "data": {
      "image/png": "[encoded data removed]",
      "text/plain": [
       "<Figure size 432x288 with 2 Axes>"
      ]
     },
     "metadata": {
      "needs_background": "light"
     },
     "output_type": "display_data"
    },
    {
     "data": {
      "image/png": "[encoded data removed]",
      "text/plain": [
       "<Figure size 432x288 with 1 Axes>"
      ]
     },
     "metadata": {
      "needs_background": "light"
     },
     "output_type": "display_data"
    }
   ],
   "source": [
    "clf_gb = Pipeline(steps=[\n",
    "    ('preprocess', preprocessor),\n",
    "    ('classifier', GradientBoostingClassifier(random_state=24))])\n",
    "\n",
    "clf_gb.fit(X_train, y_train)\n",
    "\n",
    "evaluate(clf_gb, X_train, X_test, y_train, y_test, use_decision_function='no')"
   ]
  },
  {
   "cell_type": "markdown",
   "metadata": {},
   "source": [
    "### Bagging"
   ]
  },
  {
   "cell_type": "code",
   "execution_count": 58,
   "metadata": {},
   "outputs": [
    {
     "name": "stdout",
     "output_type": "stream",
     "text": [
      "Training Scores\n",
      "-*-*-*-*-*-*-*-*\n",
      "Accuracy: 0.9964269165422437\n",
      "F1 Score: 0.9958825274399289\n",
      "ROC-AUC: 0.9999669899065436\n",
      "\n",
      "\n",
      "Testing Scores\n",
      "-*-*-*-*-*-*-*-*\n",
      "Accuracy: 0.9597491659458791\n",
      "F1 Score: 0.9526095653755229\n",
      "ROC-AUC: 0.9890714354481807\n"
     ]
    },
    {
     "data": {
      "image/png": "[encoded data removed]",
      "text/plain": [
       "<Figure size 432x288 with 2 Axes>"
      ]
     },
     "metadata": {
      "needs_background": "light"
     },
     "output_type": "display_data"
    },
    {
     "data": {
      "image/png": "[encoded data removed]",
      "text/plain": [
       "<Figure size 432x288 with 1 Axes>"
      ]
     },
     "metadata": {
      "needs_background": "light"
     },
     "output_type": "display_data"
    }
   ],
   "source": [
    "clf_bag = Pipeline(steps=[\n",
    "    ('preprocess', preprocessor),\n",
    "    ('classifier', BaggingClassifier(DecisionTreeClassifier(criterion='entropy'), random_state=24))])\n",
    "\n",
    "clf_bag.fit(X_train, y_train)\n",
    "\n",
    "evaluate(clf_bag, X_train, X_test, y_train, y_test, use_decision_function='no')"
   ]
  },
  {
   "cell_type": "markdown",
   "metadata": {},
   "source": [
    "## VI. Evaluation (I have excel version but may plot in jupyter notebook later:)\n",
    "- total of 7 different classifier\n",
    "- Tree based classifer (DecisionTree, RandomForest, Bagging) and Ada have relatively higher accuracy but a 0.03~0.06 (accuracy, f1 and roc-auc) difference between train and test set\n",
    "- Other classifiers has relatively lowever accuracy but nearly negligible difference between train and test set\n",
    "\n",
    "- Final Result:\n",
    "    - Choose high accuracy classifier => <b>RandomForest</b>"
   ]
  },
  {
   "cell_type": "markdown",
   "metadata": {},
   "source": [
    "### Note: Feature Importance\n",
    "- scikit-learn has a feature_importances_ attribute to calculate the score of input features based on how useful they are in predicting a target variable \n",
    "- The returning result shows a list of numbers. For better understanding, we need the predictor names to pair with those numbers\n",
    "- Some categorical columns names were changed after OHE, so we need to get those features' names from Pipeling preprocessing step"
   ]
  },
  {
   "cell_type": "markdown",
   "metadata": {},
   "source": [
    "## Q2. What are the critical features that determine satisfaction rate?"
   ]
  },
  {
   "cell_type": "code",
   "execution_count": 59,
   "metadata": {
    "scrolled": true
   },
   "outputs": [
    {
     "name": "stdout",
     "output_type": "stream",
     "text": [
      "0 Customer Type\n",
      "1 Age\n",
      "2 Type of Travel\n",
      "3 Class\n",
      "4 Flight Distance\n",
      "5 Inflight wifi service\n",
      "6 Departure/Arrival time convenient\n",
      "7 Ease of Online booking\n",
      "8 Gate location\n",
      "9 Food and drink\n",
      "10 Online boarding\n",
      "11 Seat comfort\n",
      "12 Inflight entertainment\n",
      "13 On-board service\n",
      "14 Leg room service\n",
      "15 Baggage handling\n",
      "16 Checkin service\n",
      "17 Inflight service\n",
      "18 Cleanliness\n",
      "19 Status\n"
     ]
    }
   ],
   "source": [
    "# Predictors\n",
    "for ind, var in enumerate(X.columns.tolist()):\n",
    "    print(ind, var)"
   ]
  },
  {
   "cell_type": "code",
   "execution_count": 60,
   "metadata": {},
   "outputs": [
    {
     "data": {
      "text/plain": [
       "['Inflight wifi service',\n",
       " 'Departure/Arrival time convenient',\n",
       " 'Ease of Online booking',\n",
       " 'Gate location',\n",
       " 'Food and drink',\n",
       " 'Online boarding',\n",
       " 'Seat comfort',\n",
       " 'Inflight entertainment',\n",
       " 'On-board service',\n",
       " 'Leg room service',\n",
       " 'Baggage handling',\n",
       " 'Checkin service',\n",
       " 'Inflight service',\n",
       " 'Cleanliness']"
      ]
     },
     "execution_count": 60,
     "metadata": {},
     "output_type": "execute_result"
    }
   ],
   "source": [
    "# Features' names unchanged\n",
    "unchanged_names = X.columns[5:-1].tolist()\n",
    "unchanged_names"
   ]
  },
  {
   "cell_type": "code",
   "execution_count": 61,
   "metadata": {},
   "outputs": [
    {
     "data": {
      "text/plain": [
       "Pipeline(steps=[('preprocess',\n",
       "                 ColumnTransformer(transformers=[('num',\n",
       "                                                  Pipeline(steps=[('scaler',\n",
       "                                                                   StandardScaler())]),\n",
       "                                                  ['Inflight wifi service',\n",
       "                                                   'Departure/Arrival time '\n",
       "                                                   'convenient',\n",
       "                                                   'Ease of Online booking',\n",
       "                                                   'Gate location',\n",
       "                                                   'Food and drink',\n",
       "                                                   'Online boarding',\n",
       "                                                   'Seat comfort',\n",
       "                                                   'Inflight entertainment',\n",
       "                                                   'On-board service',\n",
       "                                                   'Leg room service',\n",
       "                                                   'Baggage handling',\n",
       "                                                   'Checkin service',\n",
       "                                                   'Inflight service',\n",
       "                                                   'Cleanliness']),\n",
       "                                                 ('cat_ohe',\n",
       "                                                  Pipeline(steps=[('ohe',\n",
       "                                                                   OneHotEncoder())]),\n",
       "                                                  ['Customer Type', 'Age',\n",
       "                                                   'Type of Travel', 'Class',\n",
       "                                                   'Flight Distance',\n",
       "                                                   'Status'])])),\n",
       "                ('classifier',\n",
       "                 RandomForestClassifier(criterion='entropy', random_state=24))])"
      ]
     },
     "execution_count": 61,
     "metadata": {},
     "output_type": "execute_result"
    }
   ],
   "source": [
    "clf_rf"
   ]
  },
  {
   "cell_type": "code",
   "execution_count": 62,
   "metadata": {},
   "outputs": [
    {
     "data": {
      "text/plain": [
       "['Customer Type_Loyal Customer',\n",
       " 'Customer Type_disloyal Customer',\n",
       " 'Age_Adult',\n",
       " 'Age_Middle',\n",
       " 'Age_Senior',\n",
       " 'Age_Young',\n",
       " 'Type of Travel_Business travel',\n",
       " 'Type of Travel_Personal Travel',\n",
       " 'Class_Business',\n",
       " 'Class_Eco',\n",
       " 'Class_Eco Plus',\n",
       " 'Flight Distance_long',\n",
       " 'Flight Distance_medium',\n",
       " 'Flight Distance_short',\n",
       " 'Status_Delay',\n",
       " 'Status_On time']"
      ]
     },
     "execution_count": 62,
     "metadata": {},
     "output_type": "execute_result"
    }
   ],
   "source": [
    "# Extract categorical features' names at preprocess ohe step\n",
    "ohe_names = clf_rf['preprocess'].transformers_[1][1]['ohe']\\\n",
    "                               .get_feature_names(cat_cols).tolist()\n",
    "ohe_names"
   ]
  },
  {
   "cell_type": "code",
   "execution_count": 63,
   "metadata": {},
   "outputs": [
    {
     "name": "stdout",
     "output_type": "stream",
     "text": [
      "['Customer Type_Loyal Customer', 'Customer Type_disloyal Customer', 'Age_Adult', 'Age_Middle', 'Age_Senior', 'Age_Young', 'Type of Travel_Business travel', 'Type of Travel_Personal Travel', 'Class_Business', 'Class_Eco', 'Class_Eco Plus', 'Flight Distance_long', 'Flight Distance_medium', 'Flight Distance_short']\n",
      "\n",
      "\n",
      "['Status_Delay', 'Status_On time']\n"
     ]
    }
   ],
   "source": [
    "# Status is the last column in my dataframe, so need to split into two name list\n",
    "ohe_first = ohe_names[:-2]\n",
    "print(ohe_first)\n",
    "print(\"\\n\")\n",
    "ohe_last = ohe_names[-2:]\n",
    "print(ohe_last)"
   ]
  },
  {
   "cell_type": "code",
   "execution_count": 64,
   "metadata": {},
   "outputs": [
    {
     "data": {
      "text/plain": [
       "['Customer Type_Loyal Customer',\n",
       " 'Customer Type_disloyal Customer',\n",
       " 'Age_Adult',\n",
       " 'Age_Middle',\n",
       " 'Age_Senior',\n",
       " 'Age_Young',\n",
       " 'Type of Travel_Business travel',\n",
       " 'Type of Travel_Personal Travel',\n",
       " 'Class_Business',\n",
       " 'Class_Eco',\n",
       " 'Class_Eco Plus',\n",
       " 'Flight Distance_long',\n",
       " 'Flight Distance_medium',\n",
       " 'Flight Distance_short',\n",
       " 'Inflight wifi service',\n",
       " 'Departure/Arrival time convenient',\n",
       " 'Ease of Online booking',\n",
       " 'Gate location',\n",
       " 'Food and drink',\n",
       " 'Online boarding',\n",
       " 'Seat comfort',\n",
       " 'Inflight entertainment',\n",
       " 'On-board service',\n",
       " 'Leg room service',\n",
       " 'Baggage handling',\n",
       " 'Checkin service',\n",
       " 'Inflight service',\n",
       " 'Cleanliness',\n",
       " 'Status_Delay',\n",
       " 'Status_On time']"
      ]
     },
     "execution_count": 64,
     "metadata": {},
     "output_type": "execute_result"
    }
   ],
   "source": [
    "# Combine all the predictors' names\n",
    "var_names = ohe_first + unchanged_names + ohe_last\n",
    "var_names"
   ]
  },
  {
   "cell_type": "code",
   "execution_count": 65,
   "metadata": {},
   "outputs": [
    {
     "data": {
      "text/plain": [
       "array([0.15553201, 0.0207112 , 0.04429326, 0.02057715, 0.01478646,\n",
       "       0.15077161, 0.04952899, 0.04252304, 0.03814536, 0.03798197,\n",
       "       0.03664491, 0.03545346, 0.03266271, 0.02975521, 0.02521566,\n",
       "       0.02628247, 0.00539709, 0.00864666, 0.00308127, 0.00298732,\n",
       "       0.05873675, 0.05399901, 0.05180429, 0.02905698, 0.00308082,\n",
       "       0.00357398, 0.00448954, 0.00557349, 0.0042922 , 0.00441511])"
      ]
     },
     "execution_count": 65,
     "metadata": {},
     "output_type": "execute_result"
    }
   ],
   "source": [
    "rf_coef = clf_rf.steps[1][1].feature_importances_\n",
    "rf_coef"
   ]
  },
  {
   "cell_type": "code",
   "execution_count": 66,
   "metadata": {
    "scrolled": false
   },
   "outputs": [
    {
     "data": {
      "text/html": [
       "<div>\n",
       "<style scoped>\n",
       "    .dataframe tbody tr th:only-of-type {\n",
       "        vertical-align: middle;\n",
       "    }\n",
       "\n",
       "    .dataframe tbody tr th {\n",
       "        vertical-align: top;\n",
       "    }\n",
       "\n",
       "    .dataframe thead th {\n",
       "        text-align: right;\n",
       "    }\n",
       "</style>\n",
       "<table border=\"1\" class=\"dataframe\">\n",
       "  <thead>\n",
       "    <tr style=\"text-align: right;\">\n",
       "      <th></th>\n",
       "      <th>variable</th>\n",
       "      <th>score</th>\n",
       "    </tr>\n",
       "  </thead>\n",
       "  <tbody>\n",
       "    <tr>\n",
       "      <th>0</th>\n",
       "      <td>Customer Type_Loyal Customer</td>\n",
       "      <td>0.155532</td>\n",
       "    </tr>\n",
       "    <tr>\n",
       "      <th>1</th>\n",
       "      <td>Age_Young</td>\n",
       "      <td>0.150772</td>\n",
       "    </tr>\n",
       "    <tr>\n",
       "      <th>2</th>\n",
       "      <td>Seat comfort</td>\n",
       "      <td>0.058737</td>\n",
       "    </tr>\n",
       "    <tr>\n",
       "      <th>3</th>\n",
       "      <td>Inflight entertainment</td>\n",
       "      <td>0.053999</td>\n",
       "    </tr>\n",
       "    <tr>\n",
       "      <th>4</th>\n",
       "      <td>On-board service</td>\n",
       "      <td>0.051804</td>\n",
       "    </tr>\n",
       "    <tr>\n",
       "      <th>5</th>\n",
       "      <td>Type of Travel_Business travel</td>\n",
       "      <td>0.049529</td>\n",
       "    </tr>\n",
       "    <tr>\n",
       "      <th>6</th>\n",
       "      <td>Age_Adult</td>\n",
       "      <td>0.044293</td>\n",
       "    </tr>\n",
       "    <tr>\n",
       "      <th>7</th>\n",
       "      <td>Type of Travel_Personal Travel</td>\n",
       "      <td>0.042523</td>\n",
       "    </tr>\n",
       "    <tr>\n",
       "      <th>8</th>\n",
       "      <td>Class_Business</td>\n",
       "      <td>0.038145</td>\n",
       "    </tr>\n",
       "    <tr>\n",
       "      <th>9</th>\n",
       "      <td>Class_Eco</td>\n",
       "      <td>0.037982</td>\n",
       "    </tr>\n",
       "    <tr>\n",
       "      <th>10</th>\n",
       "      <td>Class_Eco Plus</td>\n",
       "      <td>0.036645</td>\n",
       "    </tr>\n",
       "    <tr>\n",
       "      <th>11</th>\n",
       "      <td>Flight Distance_long</td>\n",
       "      <td>0.035453</td>\n",
       "    </tr>\n",
       "    <tr>\n",
       "      <th>12</th>\n",
       "      <td>Flight Distance_medium</td>\n",
       "      <td>0.032663</td>\n",
       "    </tr>\n",
       "    <tr>\n",
       "      <th>13</th>\n",
       "      <td>Flight Distance_short</td>\n",
       "      <td>0.029755</td>\n",
       "    </tr>\n",
       "    <tr>\n",
       "      <th>14</th>\n",
       "      <td>Leg room service</td>\n",
       "      <td>0.029057</td>\n",
       "    </tr>\n",
       "    <tr>\n",
       "      <th>15</th>\n",
       "      <td>Departure/Arrival time convenient</td>\n",
       "      <td>0.026282</td>\n",
       "    </tr>\n",
       "    <tr>\n",
       "      <th>16</th>\n",
       "      <td>Inflight wifi service</td>\n",
       "      <td>0.025216</td>\n",
       "    </tr>\n",
       "    <tr>\n",
       "      <th>17</th>\n",
       "      <td>Customer Type_disloyal Customer</td>\n",
       "      <td>0.020711</td>\n",
       "    </tr>\n",
       "    <tr>\n",
       "      <th>18</th>\n",
       "      <td>Age_Middle</td>\n",
       "      <td>0.020577</td>\n",
       "    </tr>\n",
       "    <tr>\n",
       "      <th>19</th>\n",
       "      <td>Age_Senior</td>\n",
       "      <td>0.014786</td>\n",
       "    </tr>\n",
       "    <tr>\n",
       "      <th>20</th>\n",
       "      <td>Gate location</td>\n",
       "      <td>0.008647</td>\n",
       "    </tr>\n",
       "    <tr>\n",
       "      <th>21</th>\n",
       "      <td>Cleanliness</td>\n",
       "      <td>0.005573</td>\n",
       "    </tr>\n",
       "    <tr>\n",
       "      <th>22</th>\n",
       "      <td>Ease of Online booking</td>\n",
       "      <td>0.005397</td>\n",
       "    </tr>\n",
       "    <tr>\n",
       "      <th>23</th>\n",
       "      <td>Inflight service</td>\n",
       "      <td>0.004490</td>\n",
       "    </tr>\n",
       "    <tr>\n",
       "      <th>24</th>\n",
       "      <td>Status_On time</td>\n",
       "      <td>0.004415</td>\n",
       "    </tr>\n",
       "    <tr>\n",
       "      <th>25</th>\n",
       "      <td>Status_Delay</td>\n",
       "      <td>0.004292</td>\n",
       "    </tr>\n",
       "    <tr>\n",
       "      <th>26</th>\n",
       "      <td>Checkin service</td>\n",
       "      <td>0.003574</td>\n",
       "    </tr>\n",
       "    <tr>\n",
       "      <th>27</th>\n",
       "      <td>Food and drink</td>\n",
       "      <td>0.003081</td>\n",
       "    </tr>\n",
       "    <tr>\n",
       "      <th>28</th>\n",
       "      <td>Baggage handling</td>\n",
       "      <td>0.003081</td>\n",
       "    </tr>\n",
       "    <tr>\n",
       "      <th>29</th>\n",
       "      <td>Online boarding</td>\n",
       "      <td>0.002987</td>\n",
       "    </tr>\n",
       "  </tbody>\n",
       "</table>\n",
       "</div>"
      ],
      "text/plain": [
       "                             variable     score\n",
       "0        Customer Type_Loyal Customer  0.155532\n",
       "1                           Age_Young  0.150772\n",
       "2                        Seat comfort  0.058737\n",
       "3              Inflight entertainment  0.053999\n",
       "4                    On-board service  0.051804\n",
       "5      Type of Travel_Business travel  0.049529\n",
       "6                           Age_Adult  0.044293\n",
       "7      Type of Travel_Personal Travel  0.042523\n",
       "8                      Class_Business  0.038145\n",
       "9                           Class_Eco  0.037982\n",
       "10                     Class_Eco Plus  0.036645\n",
       "11               Flight Distance_long  0.035453\n",
       "12             Flight Distance_medium  0.032663\n",
       "13              Flight Distance_short  0.029755\n",
       "14                   Leg room service  0.029057\n",
       "15  Departure/Arrival time convenient  0.026282\n",
       "16              Inflight wifi service  0.025216\n",
       "17    Customer Type_disloyal Customer  0.020711\n",
       "18                         Age_Middle  0.020577\n",
       "19                         Age_Senior  0.014786\n",
       "20                      Gate location  0.008647\n",
       "21                        Cleanliness  0.005573\n",
       "22             Ease of Online booking  0.005397\n",
       "23                   Inflight service  0.004490\n",
       "24                     Status_On time  0.004415\n",
       "25                       Status_Delay  0.004292\n",
       "26                    Checkin service  0.003574\n",
       "27                     Food and drink  0.003081\n",
       "28                   Baggage handling  0.003081\n",
       "29                    Online boarding  0.002987"
      ]
     },
     "execution_count": 66,
     "metadata": {},
     "output_type": "execute_result"
    }
   ],
   "source": [
    "feat_imp = dict(zip(var_names, rf_coef))\n",
    "feat_imp_df = pd.DataFrame(list(feat_imp.items()), columns=['variable', 'score'])\n",
    "feat_imp_df.sort_values(by='score',  ascending=False).reset_index(drop=True)"
   ]
  },
  {
   "cell_type": "markdown",
   "metadata": {},
   "source": [
    ">**Comment:** Critical features has greater impact on satisfaction rate\n",
    "- <b>Airline Features</b>:\n",
    "    - Seat Comfort\n",
    "    - Inflight entertainment\n",
    "    - on board service\n",
    "    - leg room space\n",
    "    - time convenient\n",
    "    - wifi\n",
    "- <b>People who are / who choose</b>:\n",
    "    - Loyal Customers\n",
    "    - Young\n",
    "    - Business\n",
    "    - Long Haul"
   ]
  },
  {
   "cell_type": "markdown",
   "metadata": {},
   "source": [
    "## Q3. Which class has the highest dissatisfaction rate?\n",
    "- Eco Class"
   ]
  },
  {
   "cell_type": "code",
   "execution_count": 67,
   "metadata": {},
   "outputs": [],
   "source": [
    "def plot_survey_vs_satisfaction (dataframe):\n",
    "    fig, ax = plt.subplots(3, 5, figsize=(30, 20))\n",
    "    for variable, subplot in zip(survey_cols, ax.flatten()):\n",
    "        sns.countplot(dataframe[variable],hue=dataframe['satisfaction'], ax=subplot)"
   ]
  },
  {
   "cell_type": "code",
   "execution_count": 68,
   "metadata": {},
   "outputs": [
    {
     "data": {
      "image/png": "[encoded data removed]",
      "text/plain": [
       "<Figure size 432x288 with 1 Axes>"
      ]
     },
     "metadata": {
      "needs_background": "light"
     },
     "output_type": "display_data"
    }
   ],
   "source": [
    "sns.countplot(data=data, x='Class', hue='satisfaction');"
   ]
  },
  {
   "cell_type": "code",
   "execution_count": 69,
   "metadata": {},
   "outputs": [],
   "source": [
    "eco_class = data.loc[data['Class'] == \"Eco\"]"
   ]
  },
  {
   "cell_type": "code",
   "execution_count": 70,
   "metadata": {},
   "outputs": [
    {
     "data": {
      "image/png": "[encoded data removed]",
      "text/plain": [
       "<Figure size 2160x1440 with 15 Axes>"
      ]
     },
     "metadata": {
      "needs_background": "light"
     },
     "output_type": "display_data"
    }
   ],
   "source": [
    "plot_survey_vs_satisfaction(eco_class)"
   ]
  },
  {
   "cell_type": "code",
   "execution_count": 71,
   "metadata": {},
   "outputs": [],
   "source": [
    "# new_survey_names = data.columns[5:-2].str.lower().str.replace(\" \",\"_\")\n",
    "# new_survey_names"
   ]
  },
  {
   "cell_type": "code",
   "execution_count": 72,
   "metadata": {},
   "outputs": [
    {
     "data": {
      "text/plain": [
       "['Inflight wifi service',\n",
       " 'Departure/Arrival time convenient',\n",
       " 'Ease of Online booking',\n",
       " 'Gate location',\n",
       " 'Food and drink',\n",
       " 'Online boarding',\n",
       " 'Seat comfort',\n",
       " 'Inflight entertainment',\n",
       " 'On-board service',\n",
       " 'Leg room service',\n",
       " 'Baggage handling',\n",
       " 'Checkin service',\n",
       " 'Inflight service',\n",
       " 'Cleanliness']"
      ]
     },
     "execution_count": 72,
     "metadata": {},
     "output_type": "execute_result"
    }
   ],
   "source": [
    "survey_cols.tolist()"
   ]
  },
  {
   "cell_type": "code",
   "execution_count": 73,
   "metadata": {},
   "outputs": [],
   "source": [
    "wifi = pd.DataFrame(eco_class[survey_cols[0]].value_counts(normalize=True).sort_index(ascending=False))\n",
    "\n",
    "time_conv = pd.DataFrame(eco_class[survey_cols[1]].value_counts(normalize=True).sort_index(ascending=False))\n",
    "\n",
    "booking = pd.DataFrame(eco_class[survey_cols[2]].value_counts(normalize=True).sort_index(ascending=False))\n",
    "\n",
    "gate = pd.DataFrame(eco_class[survey_cols[3]].value_counts(normalize=True).sort_index(ascending=False))\n",
    "\n",
    "food = pd.DataFrame(eco_class[survey_cols[4]].value_counts(normalize=True).sort_index(ascending=False))\n",
    "\n",
    "boarding = pd.DataFrame(eco_class[survey_cols[5]].value_counts(normalize=True).sort_index(ascending=False))\n",
    "\n",
    "seat = pd.DataFrame(eco_class[survey_cols[6]].value_counts(normalize=True).sort_index(ascending=False))\n",
    "\n",
    "entertainment = pd.DataFrame(eco_class[survey_cols[7]].value_counts(normalize=True).sort_index(ascending=False))\n",
    "\n",
    "onboard = pd.DataFrame(eco_class[survey_cols[8]].value_counts(normalize=True).sort_index(ascending=False))\n",
    "\n",
    "leg = pd.DataFrame(eco_class[survey_cols[9]].value_counts(normalize=True).sort_index(ascending=False))\n",
    "\n",
    "baggage = pd.DataFrame(eco_class[survey_cols[10]].value_counts(normalize=True).sort_index(ascending=False))\n",
    "\n",
    "checkin = pd.DataFrame(eco_class[survey_cols[11]].value_counts(normalize=True).sort_index(ascending=False))\n",
    "\n",
    "inflight = pd.DataFrame(eco_class[survey_cols[12]].value_counts(normalize=True).sort_index(ascending=False))\n",
    "\n",
    "clean = pd.DataFrame(eco_class[survey_cols[13]].value_counts(normalize=True).sort_index(ascending=False))"
   ]
  },
  {
   "cell_type": "code",
   "execution_count": 91,
   "metadata": {},
   "outputs": [
    {
     "data": {
      "text/html": [
       "<div>\n",
       "<style scoped>\n",
       "    .dataframe tbody tr th:only-of-type {\n",
       "        vertical-align: middle;\n",
       "    }\n",
       "\n",
       "    .dataframe tbody tr th {\n",
       "        vertical-align: top;\n",
       "    }\n",
       "\n",
       "    .dataframe thead th {\n",
       "        text-align: right;\n",
       "    }\n",
       "</style>\n",
       "<table border=\"1\" class=\"dataframe\">\n",
       "  <thead>\n",
       "    <tr style=\"text-align: right;\">\n",
       "      <th></th>\n",
       "      <th>Inflight wifi service</th>\n",
       "      <th>Departure/Arrival time convenient</th>\n",
       "      <th>Ease of Online booking</th>\n",
       "      <th>Gate location</th>\n",
       "      <th>Food and drink</th>\n",
       "      <th>Online boarding</th>\n",
       "      <th>Seat comfort</th>\n",
       "      <th>Inflight entertainment</th>\n",
       "      <th>On-board service</th>\n",
       "      <th>Leg room service</th>\n",
       "      <th>Baggage handling</th>\n",
       "      <th>Checkin service</th>\n",
       "      <th>Inflight service</th>\n",
       "      <th>Cleanliness</th>\n",
       "    </tr>\n",
       "  </thead>\n",
       "  <tbody>\n",
       "  </tbody>\n",
       "</table>\n",
       "</div>"
      ],
      "text/plain": [
       "Empty DataFrame\n",
       "Columns: [Inflight wifi service, Departure/Arrival time convenient, Ease of Online booking, Gate location, Food and drink, Online boarding, Seat comfort, Inflight entertainment, On-board service, Leg room service, Baggage handling, Checkin service, Inflight service, Cleanliness]\n",
       "Index: []"
      ]
     },
     "execution_count": 91,
     "metadata": {},
     "output_type": "execute_result"
    }
   ],
   "source": [
    "survey_df = pd.DataFrame(columns=survey_cols.tolist())\n",
    "survey_df"
   ]
  },
  {
   "cell_type": "code",
   "execution_count": 114,
   "metadata": {},
   "outputs": [
    {
     "data": {
      "text/plain": [
       "5    0.074419\n",
       "4    0.189032\n",
       "3    0.276700\n",
       "2    0.275737\n",
       "1    0.164083\n",
       "0    0.020029\n",
       "Name: Inflight wifi service, dtype: float64"
      ]
     },
     "execution_count": 114,
     "metadata": {},
     "output_type": "execute_result"
    }
   ],
   "source": [
    "survey_df[survey_df.columns[0]]"
   ]
  },
  {
   "cell_type": "code",
   "execution_count": 115,
   "metadata": {},
   "outputs": [
    {
     "data": {
      "text/plain": [
       "14"
      ]
     },
     "execution_count": 115,
     "metadata": {},
     "output_type": "execute_result"
    }
   ],
   "source": [
    "survey_df.shape[1]"
   ]
  },
  {
   "cell_type": "code",
   "execution_count": 117,
   "metadata": {},
   "outputs": [],
   "source": [
    "for cols in survey_df:\n",
    "    for i in range(survey_df.shape[1]):\n",
    "        survey_df[survey_df.columns[i]] = eco_class[survey_cols[i]].value_counts(normalize=True)"
   ]
  },
  {
   "cell_type": "code",
   "execution_count": 119,
   "metadata": {},
   "outputs": [
    {
     "data": {
      "text/html": [
       "<div>\n",
       "<style scoped>\n",
       "    .dataframe tbody tr th:only-of-type {\n",
       "        vertical-align: middle;\n",
       "    }\n",
       "\n",
       "    .dataframe tbody tr th {\n",
       "        vertical-align: top;\n",
       "    }\n",
       "\n",
       "    .dataframe thead th {\n",
       "        text-align: right;\n",
       "    }\n",
       "</style>\n",
       "<table border=\"1\" class=\"dataframe\">\n",
       "  <thead>\n",
       "    <tr style=\"text-align: right;\">\n",
       "      <th></th>\n",
       "      <th>Inflight wifi service</th>\n",
       "      <th>Departure/Arrival time convenient</th>\n",
       "      <th>Ease of Online booking</th>\n",
       "      <th>Gate location</th>\n",
       "      <th>Food and drink</th>\n",
       "      <th>Online boarding</th>\n",
       "      <th>Seat comfort</th>\n",
       "      <th>Inflight entertainment</th>\n",
       "      <th>On-board service</th>\n",
       "      <th>Leg room service</th>\n",
       "      <th>Baggage handling</th>\n",
       "      <th>Checkin service</th>\n",
       "      <th>Inflight service</th>\n",
       "      <th>Cleanliness</th>\n",
       "    </tr>\n",
       "  </thead>\n",
       "  <tbody>\n",
       "    <tr>\n",
       "      <th>0</th>\n",
       "      <td>0.020029</td>\n",
       "      <td>0.060550</td>\n",
       "      <td>0.044651</td>\n",
       "      <td>NaN</td>\n",
       "      <td>0.001239</td>\n",
       "      <td>0.035188</td>\n",
       "      <td>NaN</td>\n",
       "      <td>0.000069</td>\n",
       "      <td>NaN</td>\n",
       "      <td>0.006625</td>\n",
       "      <td>NaN</td>\n",
       "      <td>NaN</td>\n",
       "      <td>NaN</td>\n",
       "      <td>0.000069</td>\n",
       "    </tr>\n",
       "    <tr>\n",
       "      <th>1</th>\n",
       "      <td>0.164083</td>\n",
       "      <td>0.121118</td>\n",
       "      <td>0.170484</td>\n",
       "      <td>0.148580</td>\n",
       "      <td>0.158818</td>\n",
       "      <td>0.143332</td>\n",
       "      <td>0.160745</td>\n",
       "      <td>0.162362</td>\n",
       "      <td>0.155600</td>\n",
       "      <td>0.135950</td>\n",
       "      <td>0.087341</td>\n",
       "      <td>0.157527</td>\n",
       "      <td>0.085792</td>\n",
       "      <td>0.161313</td>\n",
       "    </tr>\n",
       "    <tr>\n",
       "      <th>2</th>\n",
       "      <td>0.275737</td>\n",
       "      <td>0.142867</td>\n",
       "      <td>0.263451</td>\n",
       "      <td>0.176127</td>\n",
       "      <td>0.209078</td>\n",
       "      <td>0.232583</td>\n",
       "      <td>0.184249</td>\n",
       "      <td>0.203658</td>\n",
       "      <td>0.167903</td>\n",
       "      <td>0.222758</td>\n",
       "      <td>0.125712</td>\n",
       "      <td>0.155067</td>\n",
       "      <td>0.124955</td>\n",
       "      <td>0.194590</td>\n",
       "    </tr>\n",
       "    <tr>\n",
       "      <th>3</th>\n",
       "      <td>0.276700</td>\n",
       "      <td>0.154137</td>\n",
       "      <td>0.264656</td>\n",
       "      <td>0.325275</td>\n",
       "      <td>0.212124</td>\n",
       "      <td>0.258943</td>\n",
       "      <td>0.208906</td>\n",
       "      <td>0.208287</td>\n",
       "      <td>0.248929</td>\n",
       "      <td>0.226216</td>\n",
       "      <td>0.244300</td>\n",
       "      <td>0.258031</td>\n",
       "      <td>0.237349</td>\n",
       "      <td>0.217269</td>\n",
       "    </tr>\n",
       "    <tr>\n",
       "      <th>4</th>\n",
       "      <td>0.189032</td>\n",
       "      <td>0.283342</td>\n",
       "      <td>0.172342</td>\n",
       "      <td>0.257050</td>\n",
       "      <td>0.220624</td>\n",
       "      <td>0.220624</td>\n",
       "      <td>0.244421</td>\n",
       "      <td>0.226233</td>\n",
       "      <td>0.255863</td>\n",
       "      <td>0.218525</td>\n",
       "      <td>0.334635</td>\n",
       "      <td>0.264122</td>\n",
       "      <td>0.340124</td>\n",
       "      <td>0.231481</td>\n",
       "    </tr>\n",
       "    <tr>\n",
       "      <th>5</th>\n",
       "      <td>0.074419</td>\n",
       "      <td>0.237985</td>\n",
       "      <td>0.084416</td>\n",
       "      <td>0.092968</td>\n",
       "      <td>0.198118</td>\n",
       "      <td>0.109331</td>\n",
       "      <td>0.201679</td>\n",
       "      <td>0.199391</td>\n",
       "      <td>0.171705</td>\n",
       "      <td>0.189927</td>\n",
       "      <td>0.208011</td>\n",
       "      <td>0.165253</td>\n",
       "      <td>0.211780</td>\n",
       "      <td>0.195278</td>\n",
       "    </tr>\n",
       "  </tbody>\n",
       "</table>\n",
       "</div>"
      ],
      "text/plain": [
       "   Inflight wifi service  Departure/Arrival time convenient  \\\n",
       "0               0.020029                           0.060550   \n",
       "1               0.164083                           0.121118   \n",
       "2               0.275737                           0.142867   \n",
       "3               0.276700                           0.154137   \n",
       "4               0.189032                           0.283342   \n",
       "5               0.074419                           0.237985   \n",
       "\n",
       "   Ease of Online booking  Gate location  Food and drink  Online boarding  \\\n",
       "0                0.044651            NaN        0.001239         0.035188   \n",
       "1                0.170484       0.148580        0.158818         0.143332   \n",
       "2                0.263451       0.176127        0.209078         0.232583   \n",
       "3                0.264656       0.325275        0.212124         0.258943   \n",
       "4                0.172342       0.257050        0.220624         0.220624   \n",
       "5                0.084416       0.092968        0.198118         0.109331   \n",
       "\n",
       "   Seat comfort  Inflight entertainment  On-board service  Leg room service  \\\n",
       "0           NaN                0.000069               NaN          0.006625   \n",
       "1      0.160745                0.162362          0.155600          0.135950   \n",
       "2      0.184249                0.203658          0.167903          0.222758   \n",
       "3      0.208906                0.208287          0.248929          0.226216   \n",
       "4      0.244421                0.226233          0.255863          0.218525   \n",
       "5      0.201679                0.199391          0.171705          0.189927   \n",
       "\n",
       "   Baggage handling  Checkin service  Inflight service  Cleanliness  \n",
       "0               NaN              NaN               NaN     0.000069  \n",
       "1          0.087341         0.157527          0.085792     0.161313  \n",
       "2          0.125712         0.155067          0.124955     0.194590  \n",
       "3          0.244300         0.258031          0.237349     0.217269  \n",
       "4          0.334635         0.264122          0.340124     0.231481  \n",
       "5          0.208011         0.165253          0.211780     0.195278  "
      ]
     },
     "execution_count": 119,
     "metadata": {},
     "output_type": "execute_result"
    }
   ],
   "source": [
    "survey_df.sort_index()"
   ]
  },
  {
   "cell_type": "code",
   "execution_count": 74,
   "metadata": {},
   "outputs": [
    {
     "data": {
      "text/html": [
       "<div>\n",
       "<style scoped>\n",
       "    .dataframe tbody tr th:only-of-type {\n",
       "        vertical-align: middle;\n",
       "    }\n",
       "\n",
       "    .dataframe tbody tr th {\n",
       "        vertical-align: top;\n",
       "    }\n",
       "\n",
       "    .dataframe thead th {\n",
       "        text-align: right;\n",
       "    }\n",
       "</style>\n",
       "<table border=\"1\" class=\"dataframe\">\n",
       "  <thead>\n",
       "    <tr style=\"text-align: right;\">\n",
       "      <th></th>\n",
       "      <th>Inflight wifi service</th>\n",
       "      <th>Departure/Arrival time convenient</th>\n",
       "      <th>Ease of Online booking</th>\n",
       "      <th>Gate location</th>\n",
       "      <th>Food and drink</th>\n",
       "      <th>Online boarding</th>\n",
       "      <th>Seat comfort</th>\n",
       "      <th>Inflight entertainment</th>\n",
       "      <th>On-board service</th>\n",
       "      <th>Leg room service</th>\n",
       "      <th>Baggage handling</th>\n",
       "      <th>Checkin service</th>\n",
       "      <th>Inflight service</th>\n",
       "      <th>Cleanliness</th>\n",
       "    </tr>\n",
       "  </thead>\n",
       "  <tbody>\n",
       "    <tr>\n",
       "      <th>0</th>\n",
       "      <td>0.020029</td>\n",
       "      <td>0.060550</td>\n",
       "      <td>0.044651</td>\n",
       "      <td>NaN</td>\n",
       "      <td>0.001239</td>\n",
       "      <td>0.035188</td>\n",
       "      <td>NaN</td>\n",
       "      <td>0.000069</td>\n",
       "      <td>NaN</td>\n",
       "      <td>0.006625</td>\n",
       "      <td>NaN</td>\n",
       "      <td>NaN</td>\n",
       "      <td>NaN</td>\n",
       "      <td>0.000069</td>\n",
       "    </tr>\n",
       "    <tr>\n",
       "      <th>1</th>\n",
       "      <td>0.164083</td>\n",
       "      <td>0.121118</td>\n",
       "      <td>0.170484</td>\n",
       "      <td>0.148580</td>\n",
       "      <td>0.158818</td>\n",
       "      <td>0.143332</td>\n",
       "      <td>0.160745</td>\n",
       "      <td>0.162362</td>\n",
       "      <td>0.155600</td>\n",
       "      <td>0.135950</td>\n",
       "      <td>0.087341</td>\n",
       "      <td>0.157527</td>\n",
       "      <td>0.085792</td>\n",
       "      <td>0.161313</td>\n",
       "    </tr>\n",
       "    <tr>\n",
       "      <th>2</th>\n",
       "      <td>0.275737</td>\n",
       "      <td>0.142867</td>\n",
       "      <td>0.263451</td>\n",
       "      <td>0.176127</td>\n",
       "      <td>0.209078</td>\n",
       "      <td>0.232583</td>\n",
       "      <td>0.184249</td>\n",
       "      <td>0.203658</td>\n",
       "      <td>0.167903</td>\n",
       "      <td>0.222758</td>\n",
       "      <td>0.125712</td>\n",
       "      <td>0.155067</td>\n",
       "      <td>0.124955</td>\n",
       "      <td>0.194590</td>\n",
       "    </tr>\n",
       "    <tr>\n",
       "      <th>3</th>\n",
       "      <td>0.276700</td>\n",
       "      <td>0.154137</td>\n",
       "      <td>0.264656</td>\n",
       "      <td>0.325275</td>\n",
       "      <td>0.212124</td>\n",
       "      <td>0.258943</td>\n",
       "      <td>0.208906</td>\n",
       "      <td>0.208287</td>\n",
       "      <td>0.248929</td>\n",
       "      <td>0.226216</td>\n",
       "      <td>0.244300</td>\n",
       "      <td>0.258031</td>\n",
       "      <td>0.237349</td>\n",
       "      <td>0.217269</td>\n",
       "    </tr>\n",
       "    <tr>\n",
       "      <th>4</th>\n",
       "      <td>0.189032</td>\n",
       "      <td>0.283342</td>\n",
       "      <td>0.172342</td>\n",
       "      <td>0.257050</td>\n",
       "      <td>0.220624</td>\n",
       "      <td>0.220624</td>\n",
       "      <td>0.244421</td>\n",
       "      <td>0.226233</td>\n",
       "      <td>0.255863</td>\n",
       "      <td>0.218525</td>\n",
       "      <td>0.334635</td>\n",
       "      <td>0.264122</td>\n",
       "      <td>0.340124</td>\n",
       "      <td>0.231481</td>\n",
       "    </tr>\n",
       "    <tr>\n",
       "      <th>5</th>\n",
       "      <td>0.074419</td>\n",
       "      <td>0.237985</td>\n",
       "      <td>0.084416</td>\n",
       "      <td>0.092968</td>\n",
       "      <td>0.198118</td>\n",
       "      <td>0.109331</td>\n",
       "      <td>0.201679</td>\n",
       "      <td>0.199391</td>\n",
       "      <td>0.171705</td>\n",
       "      <td>0.189927</td>\n",
       "      <td>0.208011</td>\n",
       "      <td>0.165253</td>\n",
       "      <td>0.211780</td>\n",
       "      <td>0.195278</td>\n",
       "    </tr>\n",
       "  </tbody>\n",
       "</table>\n",
       "</div>"
      ],
      "text/plain": [
       "   Inflight wifi service  Departure/Arrival time convenient  \\\n",
       "0               0.020029                           0.060550   \n",
       "1               0.164083                           0.121118   \n",
       "2               0.275737                           0.142867   \n",
       "3               0.276700                           0.154137   \n",
       "4               0.189032                           0.283342   \n",
       "5               0.074419                           0.237985   \n",
       "\n",
       "   Ease of Online booking  Gate location  Food and drink  Online boarding  \\\n",
       "0                0.044651            NaN        0.001239         0.035188   \n",
       "1                0.170484       0.148580        0.158818         0.143332   \n",
       "2                0.263451       0.176127        0.209078         0.232583   \n",
       "3                0.264656       0.325275        0.212124         0.258943   \n",
       "4                0.172342       0.257050        0.220624         0.220624   \n",
       "5                0.084416       0.092968        0.198118         0.109331   \n",
       "\n",
       "   Seat comfort  Inflight entertainment  On-board service  Leg room service  \\\n",
       "0           NaN                0.000069               NaN          0.006625   \n",
       "1      0.160745                0.162362          0.155600          0.135950   \n",
       "2      0.184249                0.203658          0.167903          0.222758   \n",
       "3      0.208906                0.208287          0.248929          0.226216   \n",
       "4      0.244421                0.226233          0.255863          0.218525   \n",
       "5      0.201679                0.199391          0.171705          0.189927   \n",
       "\n",
       "   Baggage handling  Checkin service  Inflight service  Cleanliness  \n",
       "0               NaN              NaN               NaN     0.000069  \n",
       "1          0.087341         0.157527          0.085792     0.161313  \n",
       "2          0.125712         0.155067          0.124955     0.194590  \n",
       "3          0.244300         0.258031          0.237349     0.217269  \n",
       "4          0.334635         0.264122          0.340124     0.231481  \n",
       "5          0.208011         0.165253          0.211780     0.195278  "
      ]
     },
     "execution_count": 74,
     "metadata": {},
     "output_type": "execute_result"
    }
   ],
   "source": [
    "survey = pd.concat([wifi, time_conv, booking, gate, food, boarding, seat, \n",
    "                   entertainment, onboard, leg, baggage, checkin, inflight, clean], axis=1)\n",
    "survey"
   ]
  },
  {
   "cell_type": "code",
   "execution_count": 75,
   "metadata": {},
   "outputs": [
    {
     "data": {
      "text/plain": [
       "Inflight wifi service                0.263451\n",
       "Departure/Arrival time convenient    0.521328\n",
       "Ease of Online booking               0.256758\n",
       "Gate location                        0.350018\n",
       "Food and drink                       0.418742\n",
       "Online boarding                      0.329955\n",
       "Seat comfort                         0.446100\n",
       "Inflight entertainment               0.425624\n",
       "On-board service                     0.427569\n",
       "Leg room service                     0.408452\n",
       "Baggage handling                     0.542647\n",
       "Checkin service                      0.429375\n",
       "Inflight service                     0.551904\n",
       "Cleanliness                          0.426760\n",
       "dtype: float64"
      ]
     },
     "execution_count": 75,
     "metadata": {},
     "output_type": "execute_result"
    }
   ],
   "source": [
    "sum_4_5 = survey.iloc[4] + survey.iloc[5]\n",
    "sum_4_5"
   ]
  },
  {
   "cell_type": "code",
   "execution_count": 76,
   "metadata": {},
   "outputs": [],
   "source": [
    "survey_df = pd.DataFrame(sum_4_5).reset_index()\n",
    "survey_df.columns = ['survey', 'sum']\n",
    "# survey_df"
   ]
  },
  {
   "cell_type": "code",
   "execution_count": 77,
   "metadata": {},
   "outputs": [
    {
     "data": {
      "text/html": [
       "<div>\n",
       "<style scoped>\n",
       "    .dataframe tbody tr th:only-of-type {\n",
       "        vertical-align: middle;\n",
       "    }\n",
       "\n",
       "    .dataframe tbody tr th {\n",
       "        vertical-align: top;\n",
       "    }\n",
       "\n",
       "    .dataframe thead th {\n",
       "        text-align: right;\n",
       "    }\n",
       "</style>\n",
       "<table border=\"1\" class=\"dataframe\">\n",
       "  <thead>\n",
       "    <tr style=\"text-align: right;\">\n",
       "      <th></th>\n",
       "      <th>survey</th>\n",
       "      <th>sum</th>\n",
       "    </tr>\n",
       "  </thead>\n",
       "  <tbody>\n",
       "    <tr>\n",
       "      <th>2</th>\n",
       "      <td>Ease of Online booking</td>\n",
       "      <td>0.256758</td>\n",
       "    </tr>\n",
       "    <tr>\n",
       "      <th>0</th>\n",
       "      <td>Inflight wifi service</td>\n",
       "      <td>0.263451</td>\n",
       "    </tr>\n",
       "    <tr>\n",
       "      <th>5</th>\n",
       "      <td>Online boarding</td>\n",
       "      <td>0.329955</td>\n",
       "    </tr>\n",
       "    <tr>\n",
       "      <th>3</th>\n",
       "      <td>Gate location</td>\n",
       "      <td>0.350018</td>\n",
       "    </tr>\n",
       "    <tr>\n",
       "      <th>9</th>\n",
       "      <td>Leg room service</td>\n",
       "      <td>0.408452</td>\n",
       "    </tr>\n",
       "    <tr>\n",
       "      <th>4</th>\n",
       "      <td>Food and drink</td>\n",
       "      <td>0.418742</td>\n",
       "    </tr>\n",
       "    <tr>\n",
       "      <th>7</th>\n",
       "      <td>Inflight entertainment</td>\n",
       "      <td>0.425624</td>\n",
       "    </tr>\n",
       "    <tr>\n",
       "      <th>13</th>\n",
       "      <td>Cleanliness</td>\n",
       "      <td>0.426760</td>\n",
       "    </tr>\n",
       "    <tr>\n",
       "      <th>8</th>\n",
       "      <td>On-board service</td>\n",
       "      <td>0.427569</td>\n",
       "    </tr>\n",
       "    <tr>\n",
       "      <th>11</th>\n",
       "      <td>Checkin service</td>\n",
       "      <td>0.429375</td>\n",
       "    </tr>\n",
       "    <tr>\n",
       "      <th>6</th>\n",
       "      <td>Seat comfort</td>\n",
       "      <td>0.446100</td>\n",
       "    </tr>\n",
       "    <tr>\n",
       "      <th>1</th>\n",
       "      <td>Departure/Arrival time convenient</td>\n",
       "      <td>0.521328</td>\n",
       "    </tr>\n",
       "    <tr>\n",
       "      <th>10</th>\n",
       "      <td>Baggage handling</td>\n",
       "      <td>0.542647</td>\n",
       "    </tr>\n",
       "    <tr>\n",
       "      <th>12</th>\n",
       "      <td>Inflight service</td>\n",
       "      <td>0.551904</td>\n",
       "    </tr>\n",
       "  </tbody>\n",
       "</table>\n",
       "</div>"
      ],
      "text/plain": [
       "                               survey       sum\n",
       "2              Ease of Online booking  0.256758\n",
       "0               Inflight wifi service  0.263451\n",
       "5                     Online boarding  0.329955\n",
       "3                       Gate location  0.350018\n",
       "9                    Leg room service  0.408452\n",
       "4                      Food and drink  0.418742\n",
       "7              Inflight entertainment  0.425624\n",
       "13                        Cleanliness  0.426760\n",
       "8                    On-board service  0.427569\n",
       "11                    Checkin service  0.429375\n",
       "6                        Seat comfort  0.446100\n",
       "1   Departure/Arrival time convenient  0.521328\n",
       "10                   Baggage handling  0.542647\n",
       "12                   Inflight service  0.551904"
      ]
     },
     "execution_count": 77,
     "metadata": {},
     "output_type": "execute_result"
    }
   ],
   "source": [
    "survey_df.sort_values(by='sum')"
   ]
  },
  {
   "cell_type": "markdown",
   "metadata": {},
   "source": [
    "## Q4. Which flight haul has the highest dissatisfaction rate?\n",
    "- Short Haul"
   ]
  },
  {
   "cell_type": "code",
   "execution_count": 78,
   "metadata": {},
   "outputs": [
    {
     "data": {
      "image/png": "[encoded data removed]",
      "text/plain": [
       "<Figure size 432x288 with 1 Axes>"
      ]
     },
     "metadata": {
      "needs_background": "light"
     },
     "output_type": "display_data"
    }
   ],
   "source": [
    "sns.countplot(data=data, x='Flight Distance', hue='satisfaction');"
   ]
  },
  {
   "cell_type": "code",
   "execution_count": 79,
   "metadata": {},
   "outputs": [],
   "source": [
    "short_haul = data.loc[data['Flight Distance'] == \"short\"]"
   ]
  },
  {
   "cell_type": "code",
   "execution_count": 80,
   "metadata": {},
   "outputs": [
    {
     "data": {
      "image/png": "[encoded data removed]",
      "text/plain": [
       "<Figure size 2160x1440 with 15 Axes>"
      ]
     },
     "metadata": {
      "needs_background": "light"
     },
     "output_type": "display_data"
    }
   ],
   "source": [
    "fig, ax = plt.subplots(3, 5, figsize=(30, 20))\n",
    "for variable, subplot in zip(survey_cols, ax.flatten()):\n",
    "    sns.countplot(short_haul[variable],hue=short_haul['satisfaction'], ax=subplot)"
   ]
  },
  {
   "cell_type": "markdown",
   "metadata": {},
   "source": [
    "## Q5. Which age group has the highest dissatisfaction rate?\n",
    "- Adult"
   ]
  },
  {
   "cell_type": "code",
   "execution_count": 81,
   "metadata": {},
   "outputs": [
    {
     "data": {
      "image/png": "[encoded data removed]",
      "text/plain": [
       "<Figure size 432x288 with 1 Axes>"
      ]
     },
     "metadata": {
      "needs_background": "light"
     },
     "output_type": "display_data"
    }
   ],
   "source": [
    "sns.countplot(data=data, x='Age', hue='satisfaction');"
   ]
  },
  {
   "cell_type": "markdown",
   "metadata": {},
   "source": [
    "## Plot Tree or nah?"
   ]
  },
  {
   "cell_type": "code",
   "execution_count": 82,
   "metadata": {},
   "outputs": [],
   "source": [
    "# clf_rf"
   ]
  },
  {
   "cell_type": "code",
   "execution_count": 83,
   "metadata": {},
   "outputs": [],
   "source": [
    "# cat names\n",
    "# clf_rf['preprocess'].transformers_[1][1]['ohe']\\\n",
    "#                    .get_feature_names(cat_cols)"
   ]
  },
  {
   "cell_type": "code",
   "execution_count": 84,
   "metadata": {},
   "outputs": [],
   "source": [
    "# from sklearn.tree import export_graphviz"
   ]
  },
  {
   "cell_type": "code",
   "execution_count": 85,
   "metadata": {},
   "outputs": [],
   "source": [
    "# tree.plot_tree(clf_rf.steps[1][1].estimators_[0],\n",
    "#                feature_names=column_names,\n",
    "#                filled=True)\n",
    "\n",
    "# Lot of numbers??!!"
   ]
  },
  {
   "cell_type": "markdown",
   "metadata": {},
   "source": [
    "## Tunning Hyperparameter"
   ]
  },
  {
   "cell_type": "code",
   "execution_count": 86,
   "metadata": {},
   "outputs": [
    {
     "name": "stdout",
     "output_type": "stream",
     "text": [
      "Training Scores\n",
      "-*-*-*-*-*-*-*-*\n",
      "Accuracy: 0.9985790042732843\n",
      "F1 Score: 0.9983656647480992\n",
      "ROC-AUC: 0.999982975904941\n",
      "\n",
      "\n",
      "Testing Scores\n",
      "-*-*-*-*-*-*-*-*\n",
      "Accuracy: 0.9620350920548623\n",
      "F1 Score: 0.9553626557222242\n",
      "ROC-AUC: 0.9935329899042842\n"
     ]
    },
    {
     "data": {
      "image/png": "[encoded data removed]",
      "text/plain": [
       "<Figure size 432x288 with 2 Axes>"
      ]
     },
     "metadata": {
      "needs_background": "light"
     },
     "output_type": "display_data"
    },
    {
     "data": {
      "image/png": "[encoded data removed]",
      "text/plain": [
       "<Figure size 432x288 with 1 Axes>"
      ]
     },
     "metadata": {
      "needs_background": "light"
     },
     "output_type": "display_data"
    }
   ],
   "source": [
    "clf_rf2 = Pipeline(steps=[\n",
    "    ('preprocess', preprocessor),\n",
    "    ('classifier', RandomForestClassifier(criterion='entropy', random_state=24,\n",
    "                                          max_depth=25))])\n",
    "\n",
    "clf_rf2.fit(X_train, y_train)\n",
    "\n",
    "evaluate(clf_rf2, X_train, X_test, y_train, y_test, use_decision_function='no')"
   ]
  },
  {
   "cell_type": "markdown",
   "metadata": {},
   "source": [
    "## VII. Conclusion"
   ]
  },
  {
   "cell_type": "code",
   "execution_count": null,
   "metadata": {},
   "outputs": [],
   "source": []
  }
 ],
 "metadata": {
  "kernelspec": {
   "display_name": "learn-env",
   "language": "python",
   "name": "learn-env"
  },
  "language_info": {
   "codemirror_mode": {
    "name": "ipython",
    "version": 3
   },
   "file_extension": ".py",
   "mimetype": "text/x-python",
   "name": "python",
   "nbconvert_exporter": "python",
   "pygments_lexer": "ipython3",
   "version": "3.6.9"
  }
 },
 "nbformat": 4,
 "nbformat_minor": 4
}
